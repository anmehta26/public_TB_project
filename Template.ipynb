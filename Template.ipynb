{
  "nbformat": 4,
  "nbformat_minor": 0,
  "metadata": {
    "kernelspec": {
      "display_name": "Python 3",
      "language": "python",
      "name": "python3"
    },
    "language_info": {
      "codemirror_mode": {
        "name": "ipython",
        "version": 3
      },
      "file_extension": ".py",
      "mimetype": "text/x-python",
      "name": "python",
      "nbconvert_exporter": "python",
      "pygments_lexer": "ipython3",
      "version": "3.7.4"
    },
    "toc": {
      "base_numbering": 1,
      "nav_menu": {},
      "number_sections": true,
      "sideBar": true,
      "skip_h1_title": false,
      "title_cell": "Table of Contents",
      "title_sidebar": "Contents",
      "toc_cell": false,
      "toc_position": {},
      "toc_section_display": true,
      "toc_window_display": false
    },
    "colab": {
      "name": "Template.ipynb",
      "provenance": [],
      "toc_visible": true
    }
  },
  "cells": [
    {
      "cell_type": "markdown",
      "metadata": {
        "ExecuteTime": {
          "end_time": "2020-04-07T13:00:31.536172Z",
          "start_time": "2020-04-07T13:00:31.532636Z"
        },
        "id": "v5lACW4qovun",
        "colab_type": "text"
      },
      "source": [
        "Download colab_utils and import\n",
        "\n",
        "\n",
        "\n",
        "<a href=\"https://colab.research.google.com/github/beangoben/rdkit_colab/blob/master/Template.ipynb\" target=\"_parent\"><img src=\"https://colab.research.google.com/assets/colab-badge.svg\" alt=\"Open In Colab\"/></a>\n"
      ]
    },
    {
      "cell_type": "code",
      "metadata": {
        "ExecuteTime": {
          "end_time": "2020-04-07T12:59:10.855114Z",
          "start_time": "2020-04-07T12:59:10.540431Z"
        },
        "scrolled": true,
        "id": "J5HaH9Yvovuo",
        "colab_type": "code",
        "colab": {
          "base_uri": "https://localhost:8080/",
          "height": 235
        },
        "outputId": "771b3e8b-979e-4e18-9af8-b1d2a1535218"
      },
      "source": [
        "!wget https://raw.githubusercontent.com/beangoben/rdkit_colab/master/colab_utils.py -O colab_utils.py\n",
        "!rm -rf sample_data\n",
        "import colab_utils"
      ],
      "execution_count": 1,
      "outputs": [
        {
          "output_type": "stream",
          "text": [
            "--2020-07-09 21:37:49--  https://raw.githubusercontent.com/beangoben/rdkit_colab/master/colab_utils.py\n",
            "Resolving raw.githubusercontent.com (raw.githubusercontent.com)... 151.101.0.133, 151.101.64.133, 151.101.128.133, ...\n",
            "Connecting to raw.githubusercontent.com (raw.githubusercontent.com)|151.101.0.133|:443... connected.\n",
            "HTTP request sent, awaiting response... 200 OK\n",
            "Length: 7169 (7.0K) [text/plain]\n",
            "Saving to: ‘colab_utils.py’\n",
            "\n",
            "\rcolab_utils.py        0%[                    ]       0  --.-KB/s               \rcolab_utils.py      100%[===================>]   7.00K  --.-KB/s    in 0s      \n",
            "\n",
            "2020-07-09 21:37:50 (39.1 MB/s) - ‘colab_utils.py’ saved [7169/7169]\n",
            "\n"
          ],
          "name": "stdout"
        },
        {
          "output_type": "stream",
          "text": [
            "/usr/local/lib/python3.6/dist-packages/statsmodels/tools/_testing.py:19: FutureWarning: pandas.util.testing is deprecated. Use the functions in the public API at pandas.testing instead.\n",
            "  import pandas.util.testing as tm\n"
          ],
          "name": "stderr"
        }
      ]
    },
    {
      "cell_type": "markdown",
      "metadata": {
        "id": "dYkzGZr5ovuw",
        "colab_type": "text"
      },
      "source": [
        "Clone github repo, install stuff"
      ]
    },
    {
      "cell_type": "code",
      "metadata": {
        "id": "5DA0QH4Tovux",
        "colab_type": "code",
        "colab": {
          "base_uri": "https://localhost:8080/",
          "height": 1000
        },
        "outputId": "246729b1-8625-4300-cbc2-eb77fec85881"
      },
      "source": [
        "github_repo = 'git@github.com:beangoben/TB_project.git'\n",
        "# If working in a private colab repo, \n",
        "# save a id_rsa file in gdrive or dropbox, etc. and run copy_ssh_key\n",
        "colab_utils.copy_ssh_key('https://www.dropbox.com/s/h6aw94l7sz763sz/id_rsa_colab?dl=1')\n",
        "colab_utils.clone_repo(github_repo)\n",
        "colab_utils.conda_install_from_yaml()\n",
        "colab_utils.pip_install_from_yaml()"
      ],
      "execution_count": 4,
      "outputs": [
        {
          "output_type": "stream",
          "text": [
            "CMD: git clone --recursive git@github.com:beangoben/TB_project.git\n",
            "Conda installing ['rdkit', 'umap-learn']\n",
            " from channels ['rdkit', 'conda-forge']\n",
            "CMD: wget -c https://repo.continuum.io/miniconda/Miniconda3-latest-Linux-x86_64.sh\n",
            "CMD: chmod +x Miniconda3-latest-Linux-x86_64.sh\n",
            "CMD: bash ./Miniconda3-latest-Linux-x86_64.sh -b -f -p /usr/local\n",
            "PREFIX=/usr/local\n",
            "Unpacking payload ...\n",
            "Collecting package metadata (current_repodata.json): ...working... done\n",
            "Solving environment: ...working... done\n",
            "## Package Plan ##\n",
            "environment location: /usr/local\n",
            "added / updated specs:\n",
            "- _libgcc_mutex==0.1=main\n",
            "- ca-certificates==2020.1.1=0\n",
            "- certifi==2020.4.5.1=py37_0\n",
            "- cffi==1.14.0=py37he30daa8_1\n",
            "- chardet==3.0.4=py37_1003\n",
            "- conda-package-handling==1.6.1=py37h7b6447c_0\n",
            "- conda==4.8.3=py37_0\n",
            "- cryptography==2.9.2=py37h1ba5d50_0\n",
            "- idna==2.9=py_1\n",
            "- ld_impl_linux-64==2.33.1=h53a641e_7\n",
            "- libedit==3.1.20181209=hc058e9b_0\n",
            "- libffi==3.3=he6710b0_1\n",
            "- libgcc-ng==9.1.0=hdf63c60_0\n",
            "- libstdcxx-ng==9.1.0=hdf63c60_0\n",
            "- ncurses==6.2=he6710b0_1\n",
            "- openssl==1.1.1g=h7b6447c_0\n",
            "- pip==20.0.2=py37_3\n",
            "- pycosat==0.6.3=py37h7b6447c_0\n",
            "- pycparser==2.20=py_0\n",
            "- pyopenssl==19.1.0=py37_0\n",
            "- pysocks==1.7.1=py37_0\n",
            "- python==3.7.7=hcff3b4d_5\n",
            "- readline==8.0=h7b6447c_0\n",
            "- requests==2.23.0=py37_0\n",
            "- ruamel_yaml==0.15.87=py37h7b6447c_0\n",
            "- setuptools==46.4.0=py37_0\n",
            "- six==1.14.0=py37_0\n",
            "- sqlite==3.31.1=h62c20be_1\n",
            "- tk==8.6.8=hbc83047_0\n",
            "- tqdm==4.46.0=py_0\n",
            "- urllib3==1.25.8=py37_0\n",
            "- wheel==0.34.2=py37_0\n",
            "- xz==5.2.5=h7b6447c_0\n",
            "- yaml==0.1.7=had09818_2\n",
            "- zlib==1.2.11=h7b6447c_3\n",
            "The following NEW packages will be INSTALLED:\n",
            "_libgcc_mutex      pkgs/main/linux-64::_libgcc_mutex-0.1-main\n",
            "ca-certificates    pkgs/main/linux-64::ca-certificates-2020.1.1-0\n",
            "certifi            pkgs/main/linux-64::certifi-2020.4.5.1-py37_0\n",
            "cffi               pkgs/main/linux-64::cffi-1.14.0-py37he30daa8_1\n",
            "chardet            pkgs/main/linux-64::chardet-3.0.4-py37_1003\n",
            "conda              pkgs/main/linux-64::conda-4.8.3-py37_0\n",
            "conda-package-han~ pkgs/main/linux-64::conda-package-handling-1.6.1-py37h7b6447c_0\n",
            "cryptography       pkgs/main/linux-64::cryptography-2.9.2-py37h1ba5d50_0\n",
            "idna               pkgs/main/noarch::idna-2.9-py_1\n",
            "ld_impl_linux-64   pkgs/main/linux-64::ld_impl_linux-64-2.33.1-h53a641e_7\n",
            "libedit            pkgs/main/linux-64::libedit-3.1.20181209-hc058e9b_0\n",
            "libffi             pkgs/main/linux-64::libffi-3.3-he6710b0_1\n",
            "libgcc-ng          pkgs/main/linux-64::libgcc-ng-9.1.0-hdf63c60_0\n",
            "libstdcxx-ng       pkgs/main/linux-64::libstdcxx-ng-9.1.0-hdf63c60_0\n",
            "ncurses            pkgs/main/linux-64::ncurses-6.2-he6710b0_1\n",
            "openssl            pkgs/main/linux-64::openssl-1.1.1g-h7b6447c_0\n",
            "pip                pkgs/main/linux-64::pip-20.0.2-py37_3\n",
            "pycosat            pkgs/main/linux-64::pycosat-0.6.3-py37h7b6447c_0\n",
            "pycparser          pkgs/main/noarch::pycparser-2.20-py_0\n",
            "pyopenssl          pkgs/main/linux-64::pyopenssl-19.1.0-py37_0\n",
            "pysocks            pkgs/main/linux-64::pysocks-1.7.1-py37_0\n",
            "python             pkgs/main/linux-64::python-3.7.7-hcff3b4d_5\n",
            "readline           pkgs/main/linux-64::readline-8.0-h7b6447c_0\n",
            "requests           pkgs/main/linux-64::requests-2.23.0-py37_0\n",
            "ruamel_yaml        pkgs/main/linux-64::ruamel_yaml-0.15.87-py37h7b6447c_0\n",
            "setuptools         pkgs/main/linux-64::setuptools-46.4.0-py37_0\n",
            "six                pkgs/main/linux-64::six-1.14.0-py37_0\n",
            "sqlite             pkgs/main/linux-64::sqlite-3.31.1-h62c20be_1\n",
            "tk                 pkgs/main/linux-64::tk-8.6.8-hbc83047_0\n",
            "tqdm               pkgs/main/noarch::tqdm-4.46.0-py_0\n",
            "urllib3            pkgs/main/linux-64::urllib3-1.25.8-py37_0\n",
            "wheel              pkgs/main/linux-64::wheel-0.34.2-py37_0\n",
            "xz                 pkgs/main/linux-64::xz-5.2.5-h7b6447c_0\n",
            "yaml               pkgs/main/linux-64::yaml-0.1.7-had09818_2\n",
            "zlib               pkgs/main/linux-64::zlib-1.2.11-h7b6447c_3\n",
            "Preparing transaction: ...working... done\n",
            "Executing transaction: ...working... done\n",
            "installation finished.\n",
            "WARNING:\n",
            "You currently have a PYTHONPATH environment variable set. This may cause\n",
            "unexpected behavior when running the Python interpreter in Miniconda3.\n",
            "For best results, please verify that your PYTHONPATH only points to\n",
            "directories of packages that are compatible with the Python interpreter\n",
            "in Miniconda3: /usr/local\n",
            "CMD: rm -rf Miniconda3-latest-Linux-x86_64.sh\n",
            "CMD: conda install -q -y  -c rdkit -c conda-forge rdkit\n",
            "Collecting package metadata (current_repodata.json): ...working... done\n",
            "Solving environment: ...working... done\n",
            "## Package Plan ##\n",
            "environment location: /usr/local\n",
            "added / updated specs:\n",
            "- rdkit\n",
            "The following packages will be downloaded:\n",
            "package                    |            build\n",
            "---------------------------|-----------------\n",
            "boost-1.72.0               |   py37h9de70de_0         316 KB  conda-forge\n",
            "boost-cpp-1.72.0           |       h7b93d67_2        16.3 MB  conda-forge\n",
            "bzip2-1.0.8                |       h516909a_2         396 KB  conda-forge\n",
            "ca-certificates-2020.6.20  |       hecda079_0         145 KB  conda-forge\n",
            "cairo-1.16.0               |    h3fc0475_1005         1.5 MB  conda-forge\n",
            "certifi-2020.6.20          |   py37hc8dfbb8_0         151 KB  conda-forge\n",
            "conda-4.8.3                |   py37hc8dfbb8_1         3.0 MB  conda-forge\n",
            "fontconfig-2.13.1          |    h1056068_1002         365 KB  conda-forge\n",
            "freetype-2.10.2            |       he06d7ca_0         905 KB  conda-forge\n",
            "glib-2.65.0                |       h3eb4bd4_0         2.9 MB\n",
            "icu-67.1                   |       he1b5a44_0        12.9 MB  conda-forge\n",
            "jpeg-9d                    |       h516909a_0         266 KB  conda-forge\n",
            "libblas-3.8.0              |      14_openblas          10 KB  conda-forge\n",
            "libcblas-3.8.0             |      14_openblas          10 KB  conda-forge\n",
            "libgfortran-ng-7.5.0       |       hdf63c60_6         1.7 MB  conda-forge\n",
            "libiconv-1.15              |    h516909a_1006         2.0 MB  conda-forge\n",
            "liblapack-3.8.0            |      14_openblas          10 KB  conda-forge\n",
            "libopenblas-0.3.7          |       h5ec1e0e_6         7.6 MB  conda-forge\n",
            "libpng-1.6.37              |       hed695b0_1         308 KB  conda-forge\n",
            "libtiff-4.1.0              |       hc7e4089_6         668 KB  conda-forge\n",
            "libuuid-2.32.1             |    h14c3975_1000          26 KB  conda-forge\n",
            "libwebp-base-1.1.0         |       h516909a_3         845 KB  conda-forge\n",
            "libxcb-1.13                |    h14c3975_1002         396 KB  conda-forge\n",
            "libxml2-2.9.10             |       h72b56ed_1         1.3 MB  conda-forge\n",
            "lz4-c-1.9.2                |       he1b5a44_1         226 KB  conda-forge\n",
            "numpy-1.18.5               |   py37h8960a57_0         5.1 MB  conda-forge\n",
            "olefile-0.46               |             py_0          31 KB  conda-forge\n",
            "openssl-1.1.1g             |       h516909a_0         2.1 MB  conda-forge\n",
            "pandas-1.0.5               |   py37h0da4684_0        10.1 MB  conda-forge\n",
            "pcre-8.44                  |       he1b5a44_0         261 KB  conda-forge\n",
            "pillow-7.0.0               |   py37hb39fc2d_0         598 KB\n",
            "pixman-0.38.0              |    h516909a_1003         594 KB  conda-forge\n",
            "pthread-stubs-0.4          |    h14c3975_1001           5 KB  conda-forge\n",
            "pycairo-1.19.1             |   py37h01af8b0_3          77 KB  conda-forge\n",
            "python-dateutil-2.8.1      |             py_0         220 KB  conda-forge\n",
            "python_abi-3.7             |          1_cp37m           4 KB  conda-forge\n",
            "pytz-2020.1                |     pyh9f0ad1d_0         227 KB  conda-forge\n",
            "rdkit-2020.03.4            |   py37hdd87690_0        24.6 MB  conda-forge\n",
            "xorg-kbproto-1.0.7         |    h14c3975_1002          26 KB  conda-forge\n",
            "xorg-libice-1.0.10         |       h516909a_0          57 KB  conda-forge\n",
            "xorg-libsm-1.2.3           |    h84519dc_1000          25 KB  conda-forge\n",
            "xorg-libx11-1.6.9          |       h516909a_0         918 KB  conda-forge\n",
            "xorg-libxau-1.0.9          |       h14c3975_0          13 KB  conda-forge\n",
            "xorg-libxdmcp-1.1.3        |       h516909a_0          18 KB  conda-forge\n",
            "xorg-libxext-1.3.4         |       h516909a_0          51 KB  conda-forge\n",
            "xorg-libxrender-0.9.10     |    h516909a_1002          31 KB  conda-forge\n",
            "xorg-renderproto-0.11.1    |    h14c3975_1002           8 KB  conda-forge\n",
            "xorg-xextproto-7.3.0       |    h14c3975_1002          27 KB  conda-forge\n",
            "xorg-xproto-7.0.31         |    h14c3975_1007          72 KB  conda-forge\n",
            "zstd-1.4.4                 |       h6597ccf_3         991 KB  conda-forge\n",
            "------------------------------------------------------------\n",
            "Total:       100.2 MB\n",
            "The following NEW packages will be INSTALLED:\n",
            "boost              conda-forge/linux-64::boost-1.72.0-py37h9de70de_0\n",
            "boost-cpp          conda-forge/linux-64::boost-cpp-1.72.0-h7b93d67_2\n",
            "bzip2              conda-forge/linux-64::bzip2-1.0.8-h516909a_2\n",
            "cairo              conda-forge/linux-64::cairo-1.16.0-h3fc0475_1005\n",
            "fontconfig         conda-forge/linux-64::fontconfig-2.13.1-h1056068_1002\n",
            "freetype           conda-forge/linux-64::freetype-2.10.2-he06d7ca_0\n",
            "glib               pkgs/main/linux-64::glib-2.65.0-h3eb4bd4_0\n",
            "icu                conda-forge/linux-64::icu-67.1-he1b5a44_0\n",
            "jpeg               conda-forge/linux-64::jpeg-9d-h516909a_0\n",
            "libblas            conda-forge/linux-64::libblas-3.8.0-14_openblas\n",
            "libcblas           conda-forge/linux-64::libcblas-3.8.0-14_openblas\n",
            "libgfortran-ng     conda-forge/linux-64::libgfortran-ng-7.5.0-hdf63c60_6\n",
            "libiconv           conda-forge/linux-64::libiconv-1.15-h516909a_1006\n",
            "liblapack          conda-forge/linux-64::liblapack-3.8.0-14_openblas\n",
            "libopenblas        conda-forge/linux-64::libopenblas-0.3.7-h5ec1e0e_6\n",
            "libpng             conda-forge/linux-64::libpng-1.6.37-hed695b0_1\n",
            "libtiff            conda-forge/linux-64::libtiff-4.1.0-hc7e4089_6\n",
            "libuuid            conda-forge/linux-64::libuuid-2.32.1-h14c3975_1000\n",
            "libwebp-base       conda-forge/linux-64::libwebp-base-1.1.0-h516909a_3\n",
            "libxcb             conda-forge/linux-64::libxcb-1.13-h14c3975_1002\n",
            "libxml2            conda-forge/linux-64::libxml2-2.9.10-h72b56ed_1\n",
            "lz4-c              conda-forge/linux-64::lz4-c-1.9.2-he1b5a44_1\n",
            "numpy              conda-forge/linux-64::numpy-1.18.5-py37h8960a57_0\n",
            "olefile            conda-forge/noarch::olefile-0.46-py_0\n",
            "pandas             conda-forge/linux-64::pandas-1.0.5-py37h0da4684_0\n",
            "pcre               conda-forge/linux-64::pcre-8.44-he1b5a44_0\n",
            "pillow             pkgs/main/linux-64::pillow-7.0.0-py37hb39fc2d_0\n",
            "pixman             conda-forge/linux-64::pixman-0.38.0-h516909a_1003\n",
            "pthread-stubs      conda-forge/linux-64::pthread-stubs-0.4-h14c3975_1001\n",
            "pycairo            conda-forge/linux-64::pycairo-1.19.1-py37h01af8b0_3\n",
            "python-dateutil    conda-forge/noarch::python-dateutil-2.8.1-py_0\n",
            "python_abi         conda-forge/linux-64::python_abi-3.7-1_cp37m\n",
            "pytz               conda-forge/noarch::pytz-2020.1-pyh9f0ad1d_0\n",
            "rdkit              conda-forge/linux-64::rdkit-2020.03.4-py37hdd87690_0\n",
            "xorg-kbproto       conda-forge/linux-64::xorg-kbproto-1.0.7-h14c3975_1002\n",
            "xorg-libice        conda-forge/linux-64::xorg-libice-1.0.10-h516909a_0\n",
            "xorg-libsm         conda-forge/linux-64::xorg-libsm-1.2.3-h84519dc_1000\n",
            "xorg-libx11        conda-forge/linux-64::xorg-libx11-1.6.9-h516909a_0\n",
            "xorg-libxau        conda-forge/linux-64::xorg-libxau-1.0.9-h14c3975_0\n",
            "xorg-libxdmcp      conda-forge/linux-64::xorg-libxdmcp-1.1.3-h516909a_0\n",
            "xorg-libxext       conda-forge/linux-64::xorg-libxext-1.3.4-h516909a_0\n",
            "xorg-libxrender    conda-forge/linux-64::xorg-libxrender-0.9.10-h516909a_1002\n",
            "xorg-renderproto   conda-forge/linux-64::xorg-renderproto-0.11.1-h14c3975_1002\n",
            "xorg-xextproto     conda-forge/linux-64::xorg-xextproto-7.3.0-h14c3975_1002\n",
            "xorg-xproto        conda-forge/linux-64::xorg-xproto-7.0.31-h14c3975_1007\n",
            "zstd               conda-forge/linux-64::zstd-1.4.4-h6597ccf_3\n",
            "The following packages will be UPDATED:\n",
            "ca-certificates     pkgs/main::ca-certificates-2020.1.1-0 --> conda-forge::ca-certificates-2020.6.20-hecda079_0\n",
            "certifi              pkgs/main::certifi-2020.4.5.1-py37_0 --> conda-forge::certifi-2020.6.20-py37hc8dfbb8_0\n",
            "conda                       pkgs/main::conda-4.8.3-py37_0 --> conda-forge::conda-4.8.3-py37hc8dfbb8_1\n",
            "The following packages will be SUPERSEDED by a higher-priority channel:\n",
            "openssl              pkgs/main::openssl-1.1.1g-h7b6447c_0 --> conda-forge::openssl-1.1.1g-h516909a_0\n",
            "Preparing transaction: ...working... done\n",
            "Verifying transaction: ...working... done\n",
            "Executing transaction: ...working... done\n",
            "CMD: conda install -q -y  -c rdkit -c conda-forge umap-learn\n",
            "Collecting package metadata (current_repodata.json): ...working... done\n",
            "Solving environment: ...working... done\n",
            "## Package Plan ##\n",
            "environment location: /usr/local\n",
            "added / updated specs:\n",
            "- umap-learn\n",
            "The following packages will be downloaded:\n",
            "package                    |            build\n",
            "---------------------------|-----------------\n",
            "joblib-0.16.0              |             py_0         203 KB  conda-forge\n",
            "libllvm9-9.0.1             |       he513fc3_1        25.1 MB  conda-forge\n",
            "llvm-tools-9.0.1           |       he513fc3_1         4.9 MB  conda-forge\n",
            "llvmdev-9.0.1              |       he513fc3_1        38.0 MB  conda-forge\n",
            "llvmlite-0.33.0            |   py37h5202443_0         330 KB  conda-forge\n",
            "numba-0.50.1               |   py37h0da4684_0         3.5 MB  conda-forge\n",
            "scikit-learn-0.23.1        |   py37h8a51577_0         6.8 MB  conda-forge\n",
            "scipy-1.5.0                |   py37ha3d9a3c_0        18.6 MB  conda-forge\n",
            "tbb-2020.1                 |       hc9558a2_0         1.4 MB  conda-forge\n",
            "threadpoolctl-2.1.0        |     pyh5ca1d4c_0          15 KB  conda-forge\n",
            "umap-learn-0.4.6           |   py37hc8dfbb8_0         110 KB  conda-forge\n",
            "------------------------------------------------------------\n",
            "Total:        99.0 MB\n",
            "The following NEW packages will be INSTALLED:\n",
            "joblib             conda-forge/noarch::joblib-0.16.0-py_0\n",
            "libllvm9           conda-forge/linux-64::libllvm9-9.0.1-he513fc3_1\n",
            "llvm-tools         conda-forge/linux-64::llvm-tools-9.0.1-he513fc3_1\n",
            "llvmdev            conda-forge/linux-64::llvmdev-9.0.1-he513fc3_1\n",
            "llvmlite           conda-forge/linux-64::llvmlite-0.33.0-py37h5202443_0\n",
            "numba              conda-forge/linux-64::numba-0.50.1-py37h0da4684_0\n",
            "scikit-learn       conda-forge/linux-64::scikit-learn-0.23.1-py37h8a51577_0\n",
            "scipy              conda-forge/linux-64::scipy-1.5.0-py37ha3d9a3c_0\n",
            "tbb                conda-forge/linux-64::tbb-2020.1-hc9558a2_0\n",
            "threadpoolctl      conda-forge/noarch::threadpoolctl-2.1.0-pyh5ca1d4c_0\n",
            "umap-learn         conda-forge/linux-64::umap-learn-0.4.6-py37hc8dfbb8_0\n",
            "Preparing transaction: ...working... done\n",
            "Verifying transaction: ...working... done\n",
            "Executing transaction: ...working... done\n",
            "Append \"/usr/local/lib/python3.7/site-packages/\" to sys.path, or use \"colab_utils.add_conda_dir_to_python_path()\"!\n",
            "pip installing ['selfies']\n",
            "CMD: pip install  selfies\n",
            "Collecting selfies\n",
            "Downloading selfies-0.2.4-py3-none-any.whl (15 kB)\n",
            "Installing collected packages: selfies\n",
            "Successfully installed selfies-0.2.4\n"
          ],
          "name": "stdout"
        }
      ]
    },
    {
      "cell_type": "markdown",
      "metadata": {
        "id": "T-CPqE95ovu1",
        "colab_type": "text"
      },
      "source": [
        "# Import modules\n",
        "If first time after installing rdkit, you need to restart and update sys.path"
      ]
    },
    {
      "cell_type": "code",
      "metadata": {
        "ExecuteTime": {
          "end_time": "2020-04-16T07:11:11.794473Z",
          "start_time": "2020-04-16T07:11:11.735773Z"
        },
        "id": "I5JlAf1aovu2",
        "colab_type": "code",
        "colab": {}
      },
      "source": [
        "colab_utils.add_conda_dir_to_python_path()"
      ],
      "execution_count": null,
      "outputs": []
    },
    {
      "cell_type": "code",
      "metadata": {
        "id": "_lQtfaWnhNUr",
        "colab_type": "code",
        "colab": {}
      },
      "source": [
        "import sys\n",
        "REPO_DIR = '.' if 'google.colab' in sys.modules else '..'"
      ],
      "execution_count": null,
      "outputs": []
    },
    {
      "cell_type": "code",
      "metadata": {
        "id": "l7xIWY9Qovu8",
        "colab_type": "code",
        "colab": {
          "base_uri": "https://localhost:8080/",
          "height": 51
        },
        "outputId": "5c372bc5-19a9-4d70-ba8e-046a7d885ed9"
      },
      "source": [
        "from collections import OrderedDict\n",
        "import tqdm.auto as tqdm\n",
        "\n",
        "import numpy as np\n",
        "import scipy as sp\n",
        "import pandas as pd\n",
        "import matplotlib.pyplot as plt\n",
        "import seaborn as sns\n",
        "\n",
        "import rdkit\n",
        "import rdkit.Chem\n",
        "import rdkit.Chem.AllChem as Chem\n",
        "\n",
        "import tensorflow as tf\n",
        "\n",
        "print(f'rdkit  : {rdkit.__version__}')\n",
        "print(f'tf     : {tf.__version__}')\n",
        "colab_utils.matplotlib_settings()"
      ],
      "execution_count": null,
      "outputs": [
        {
          "output_type": "stream",
          "text": [
            "rdkit  : 2020.03.1\n",
            "tf     : 2.2.0-rc4\n"
          ],
          "name": "stdout"
        }
      ]
    }
  ]
}