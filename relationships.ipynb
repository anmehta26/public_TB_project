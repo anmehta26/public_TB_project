{
  "nbformat": 4,
  "nbformat_minor": 0,
  "metadata": {
    "colab": {
      "name": "relationships.ipynb",
      "provenance": [],
      "collapsed_sections": [],
      "mount_file_id": "19nycDNbA0t3bDbDrwx0DQ_4SqQN9bzca",
      "authorship_tag": "ABX9TyMjiw8kgvLCMrva1v957g+W",
      "include_colab_link": true
    },
    "kernelspec": {
      "name": "python3",
      "display_name": "Python 3"
    },
    "accelerator": "GPU"
  },
  "cells": [
    {
      "cell_type": "markdown",
      "metadata": {
        "id": "view-in-github",
        "colab_type": "text"
      },
      "source": [
        "<a href=\"https://colab.research.google.com/github/beangoben/TB_project/blob/master/relationships.ipynb\" target=\"_parent\"><img src=\"https://colab.research.google.com/assets/colab-badge.svg\" alt=\"Open In Colab\"/></a>"
      ]
    },
    {
      "cell_type": "code",
      "metadata": {
        "id": "ELCdooaFw0Gl",
        "colab_type": "code",
        "colab": {
          "base_uri": "https://localhost:8080/",
          "height": 238
        },
        "outputId": "de6204e6-b260-4444-c3ae-5c5b49a282eb"
      },
      "source": [
        "!wget https://raw.githubusercontent.com/beangoben/rdkit_colab/master/colab_utils.py -O colab_utils.py\n",
        "!rm -rf sample_data\n",
        "import colab_utils"
      ],
      "execution_count": 2,
      "outputs": [
        {
          "output_type": "stream",
          "text": [
            "--2020-07-15 15:44:50--  https://raw.githubusercontent.com/beangoben/rdkit_colab/master/colab_utils.py\n",
            "Resolving raw.githubusercontent.com (raw.githubusercontent.com)... 151.101.0.133, 151.101.64.133, 151.101.128.133, ...\n",
            "Connecting to raw.githubusercontent.com (raw.githubusercontent.com)|151.101.0.133|:443... connected.\n",
            "HTTP request sent, awaiting response... 200 OK\n",
            "Length: 7169 (7.0K) [text/plain]\n",
            "Saving to: ‘colab_utils.py’\n",
            "\n",
            "\rcolab_utils.py        0%[                    ]       0  --.-KB/s               \rcolab_utils.py      100%[===================>]   7.00K  --.-KB/s    in 0s      \n",
            "\n",
            "2020-07-15 15:44:51 (38.0 MB/s) - ‘colab_utils.py’ saved [7169/7169]\n",
            "\n"
          ],
          "name": "stdout"
        },
        {
          "output_type": "stream",
          "text": [
            "/usr/local/lib/python3.6/dist-packages/statsmodels/tools/_testing.py:19: FutureWarning: pandas.util.testing is deprecated. Use the functions in the public API at pandas.testing instead.\n",
            "  import pandas.util.testing as tm\n"
          ],
          "name": "stderr"
        }
      ]
    },
    {
      "cell_type": "code",
      "metadata": {
        "id": "1ZSnNzPQw3ha",
        "colab_type": "code",
        "colab": {
          "base_uri": "https://localhost:8080/",
          "height": 1000
        },
        "outputId": "ba290c7a-f806-4cac-f030-41c77d19f4cb"
      },
      "source": [
        "github_repo = 'https://github.com/beangoben/rdkit_colab'\n",
        "# If working in a private colab repo, \n",
        "# save a id_rsa file in gdrive or dropbox, etc. and run copy_ssh_key\n",
        "colab_utils.copy_ssh_key('https://www.dropbox.com/s/h6aw94l7sz763sz/id_rsa_colab?dl=1')\n",
        "colab_utils.clone_repo(github_repo)\n",
        "colab_utils.conda_install_from_yaml()\n",
        "colab_utils.pip_install_from_yaml()"
      ],
      "execution_count": 3,
      "outputs": [
        {
          "output_type": "stream",
          "text": [
            "CMD: git clone --recursive https://github.com/beangoben/rdkit_colab\n",
            "Conda installing ['rdkit', 'umap-learn']\n",
            " from channels ['rdkit', 'conda-forge']\n",
            "CMD: wget -c https://repo.continuum.io/miniconda/Miniconda3-latest-Linux-x86_64.sh\n",
            "CMD: chmod +x Miniconda3-latest-Linux-x86_64.sh\n",
            "CMD: bash ./Miniconda3-latest-Linux-x86_64.sh -b -f -p /usr/local\n",
            "PREFIX=/usr/local\n",
            "Unpacking payload ...\n",
            "Collecting package metadata (current_repodata.json): ...working... done\n",
            "Solving environment: ...working... done\n",
            "## Package Plan ##\n",
            "environment location: /usr/local\n",
            "added / updated specs:\n",
            "- _libgcc_mutex==0.1=main\n",
            "- ca-certificates==2020.1.1=0\n",
            "- certifi==2020.4.5.1=py37_0\n",
            "- cffi==1.14.0=py37he30daa8_1\n",
            "- chardet==3.0.4=py37_1003\n",
            "- conda-package-handling==1.6.1=py37h7b6447c_0\n",
            "- conda==4.8.3=py37_0\n",
            "- cryptography==2.9.2=py37h1ba5d50_0\n",
            "- idna==2.9=py_1\n",
            "- ld_impl_linux-64==2.33.1=h53a641e_7\n",
            "- libedit==3.1.20181209=hc058e9b_0\n",
            "- libffi==3.3=he6710b0_1\n",
            "- libgcc-ng==9.1.0=hdf63c60_0\n",
            "- libstdcxx-ng==9.1.0=hdf63c60_0\n",
            "- ncurses==6.2=he6710b0_1\n",
            "- openssl==1.1.1g=h7b6447c_0\n",
            "- pip==20.0.2=py37_3\n",
            "- pycosat==0.6.3=py37h7b6447c_0\n",
            "- pycparser==2.20=py_0\n",
            "- pyopenssl==19.1.0=py37_0\n",
            "- pysocks==1.7.1=py37_0\n",
            "- python==3.7.7=hcff3b4d_5\n",
            "- readline==8.0=h7b6447c_0\n",
            "- requests==2.23.0=py37_0\n",
            "- ruamel_yaml==0.15.87=py37h7b6447c_0\n",
            "- setuptools==46.4.0=py37_0\n",
            "- six==1.14.0=py37_0\n",
            "- sqlite==3.31.1=h62c20be_1\n",
            "- tk==8.6.8=hbc83047_0\n",
            "- tqdm==4.46.0=py_0\n",
            "- urllib3==1.25.8=py37_0\n",
            "- wheel==0.34.2=py37_0\n",
            "- xz==5.2.5=h7b6447c_0\n",
            "- yaml==0.1.7=had09818_2\n",
            "- zlib==1.2.11=h7b6447c_3\n",
            "The following NEW packages will be INSTALLED:\n",
            "_libgcc_mutex      pkgs/main/linux-64::_libgcc_mutex-0.1-main\n",
            "ca-certificates    pkgs/main/linux-64::ca-certificates-2020.1.1-0\n",
            "certifi            pkgs/main/linux-64::certifi-2020.4.5.1-py37_0\n",
            "cffi               pkgs/main/linux-64::cffi-1.14.0-py37he30daa8_1\n",
            "chardet            pkgs/main/linux-64::chardet-3.0.4-py37_1003\n",
            "conda              pkgs/main/linux-64::conda-4.8.3-py37_0\n",
            "conda-package-han~ pkgs/main/linux-64::conda-package-handling-1.6.1-py37h7b6447c_0\n",
            "cryptography       pkgs/main/linux-64::cryptography-2.9.2-py37h1ba5d50_0\n",
            "idna               pkgs/main/noarch::idna-2.9-py_1\n",
            "ld_impl_linux-64   pkgs/main/linux-64::ld_impl_linux-64-2.33.1-h53a641e_7\n",
            "libedit            pkgs/main/linux-64::libedit-3.1.20181209-hc058e9b_0\n",
            "libffi             pkgs/main/linux-64::libffi-3.3-he6710b0_1\n",
            "libgcc-ng          pkgs/main/linux-64::libgcc-ng-9.1.0-hdf63c60_0\n",
            "libstdcxx-ng       pkgs/main/linux-64::libstdcxx-ng-9.1.0-hdf63c60_0\n",
            "ncurses            pkgs/main/linux-64::ncurses-6.2-he6710b0_1\n",
            "openssl            pkgs/main/linux-64::openssl-1.1.1g-h7b6447c_0\n",
            "pip                pkgs/main/linux-64::pip-20.0.2-py37_3\n",
            "pycosat            pkgs/main/linux-64::pycosat-0.6.3-py37h7b6447c_0\n",
            "pycparser          pkgs/main/noarch::pycparser-2.20-py_0\n",
            "pyopenssl          pkgs/main/linux-64::pyopenssl-19.1.0-py37_0\n",
            "pysocks            pkgs/main/linux-64::pysocks-1.7.1-py37_0\n",
            "python             pkgs/main/linux-64::python-3.7.7-hcff3b4d_5\n",
            "readline           pkgs/main/linux-64::readline-8.0-h7b6447c_0\n",
            "requests           pkgs/main/linux-64::requests-2.23.0-py37_0\n",
            "ruamel_yaml        pkgs/main/linux-64::ruamel_yaml-0.15.87-py37h7b6447c_0\n",
            "setuptools         pkgs/main/linux-64::setuptools-46.4.0-py37_0\n",
            "six                pkgs/main/linux-64::six-1.14.0-py37_0\n",
            "sqlite             pkgs/main/linux-64::sqlite-3.31.1-h62c20be_1\n",
            "tk                 pkgs/main/linux-64::tk-8.6.8-hbc83047_0\n",
            "tqdm               pkgs/main/noarch::tqdm-4.46.0-py_0\n",
            "urllib3            pkgs/main/linux-64::urllib3-1.25.8-py37_0\n",
            "wheel              pkgs/main/linux-64::wheel-0.34.2-py37_0\n",
            "xz                 pkgs/main/linux-64::xz-5.2.5-h7b6447c_0\n",
            "yaml               pkgs/main/linux-64::yaml-0.1.7-had09818_2\n",
            "zlib               pkgs/main/linux-64::zlib-1.2.11-h7b6447c_3\n",
            "Preparing transaction: ...working... done\n",
            "Executing transaction: ...working... done\n",
            "installation finished.\n",
            "WARNING:\n",
            "You currently have a PYTHONPATH environment variable set. This may cause\n",
            "unexpected behavior when running the Python interpreter in Miniconda3.\n",
            "For best results, please verify that your PYTHONPATH only points to\n",
            "directories of packages that are compatible with the Python interpreter\n",
            "in Miniconda3: /usr/local\n",
            "CMD: rm -rf Miniconda3-latest-Linux-x86_64.sh\n",
            "CMD: conda install -q -y  -c rdkit -c conda-forge rdkit\n",
            "Collecting package metadata (current_repodata.json): ...working... done\n",
            "Solving environment: ...working... done\n",
            "## Package Plan ##\n",
            "environment location: /usr/local\n",
            "added / updated specs:\n",
            "- rdkit\n",
            "The following packages will be downloaded:\n",
            "package                    |            build\n",
            "---------------------------|-----------------\n",
            "boost-1.72.0               |   py37h9de70de_0         316 KB  conda-forge\n",
            "boost-cpp-1.72.0           |       h7b93d67_2        16.3 MB  conda-forge\n",
            "bzip2-1.0.8                |       h516909a_2         396 KB  conda-forge\n",
            "ca-certificates-2020.6.20  |       hecda079_0         145 KB  conda-forge\n",
            "cairo-1.16.0               |    h3fc0475_1005         1.5 MB  conda-forge\n",
            "certifi-2020.6.20          |   py37hc8dfbb8_0         151 KB  conda-forge\n",
            "conda-4.8.3                |   py37hc8dfbb8_1         3.0 MB  conda-forge\n",
            "fontconfig-2.13.1          |    h1056068_1002         365 KB  conda-forge\n",
            "freetype-2.10.2            |       he06d7ca_0         905 KB  conda-forge\n",
            "glib-2.65.0                |       h3eb4bd4_0         2.9 MB\n",
            "icu-67.1                   |       he1b5a44_0        12.9 MB  conda-forge\n",
            "jpeg-9d                    |       h516909a_0         266 KB  conda-forge\n",
            "libblas-3.8.0              |      14_openblas          10 KB  conda-forge\n",
            "libcblas-3.8.0             |      14_openblas          10 KB  conda-forge\n",
            "libgfortran-ng-7.5.0       |       hdf63c60_6         1.7 MB  conda-forge\n",
            "libiconv-1.15              |    h516909a_1006         2.0 MB  conda-forge\n",
            "liblapack-3.8.0            |      14_openblas          10 KB  conda-forge\n",
            "libopenblas-0.3.7          |       h5ec1e0e_6         7.6 MB  conda-forge\n",
            "libpng-1.6.37              |       hed695b0_1         308 KB  conda-forge\n",
            "libtiff-4.1.0              |       hc7e4089_6         668 KB  conda-forge\n",
            "libuuid-2.32.1             |    h14c3975_1000          26 KB  conda-forge\n",
            "libwebp-base-1.1.0         |       h516909a_3         845 KB  conda-forge\n",
            "libxcb-1.13                |    h14c3975_1002         396 KB  conda-forge\n",
            "libxml2-2.9.10             |       h72b56ed_1         1.3 MB  conda-forge\n",
            "lz4-c-1.9.2                |       he1b5a44_1         226 KB  conda-forge\n",
            "numpy-1.18.5               |   py37h8960a57_0         5.1 MB  conda-forge\n",
            "olefile-0.46               |             py_0          31 KB  conda-forge\n",
            "openssl-1.1.1g             |       h516909a_0         2.1 MB  conda-forge\n",
            "pandas-1.0.5               |   py37h0da4684_0        10.1 MB  conda-forge\n",
            "pcre-8.44                  |       he1b5a44_0         261 KB  conda-forge\n",
            "pillow-7.0.0               |   py37hb39fc2d_0         598 KB\n",
            "pixman-0.38.0              |    h516909a_1003         594 KB  conda-forge\n",
            "pthread-stubs-0.4          |    h14c3975_1001           5 KB  conda-forge\n",
            "pycairo-1.19.1             |   py37h01af8b0_3          77 KB  conda-forge\n",
            "python-dateutil-2.8.1      |             py_0         220 KB  conda-forge\n",
            "python_abi-3.7             |          1_cp37m           4 KB  conda-forge\n",
            "pytz-2020.1                |     pyh9f0ad1d_0         227 KB  conda-forge\n",
            "rdkit-2020.03.4            |   py37hdd87690_0        24.6 MB  conda-forge\n",
            "xorg-kbproto-1.0.7         |    h14c3975_1002          26 KB  conda-forge\n",
            "xorg-libice-1.0.10         |       h516909a_0          57 KB  conda-forge\n",
            "xorg-libsm-1.2.3           |    h84519dc_1000          25 KB  conda-forge\n",
            "xorg-libx11-1.6.9          |       h516909a_0         918 KB  conda-forge\n",
            "xorg-libxau-1.0.9          |       h14c3975_0          13 KB  conda-forge\n",
            "xorg-libxdmcp-1.1.3        |       h516909a_0          18 KB  conda-forge\n",
            "xorg-libxext-1.3.4         |       h516909a_0          51 KB  conda-forge\n",
            "xorg-libxrender-0.9.10     |    h516909a_1002          31 KB  conda-forge\n",
            "xorg-renderproto-0.11.1    |    h14c3975_1002           8 KB  conda-forge\n",
            "xorg-xextproto-7.3.0       |    h14c3975_1002          27 KB  conda-forge\n",
            "xorg-xproto-7.0.31         |    h14c3975_1007          72 KB  conda-forge\n",
            "zstd-1.4.4                 |       h6597ccf_3         991 KB  conda-forge\n",
            "------------------------------------------------------------\n",
            "Total:       100.2 MB\n",
            "The following NEW packages will be INSTALLED:\n",
            "boost              conda-forge/linux-64::boost-1.72.0-py37h9de70de_0\n",
            "boost-cpp          conda-forge/linux-64::boost-cpp-1.72.0-h7b93d67_2\n",
            "bzip2              conda-forge/linux-64::bzip2-1.0.8-h516909a_2\n",
            "cairo              conda-forge/linux-64::cairo-1.16.0-h3fc0475_1005\n",
            "fontconfig         conda-forge/linux-64::fontconfig-2.13.1-h1056068_1002\n",
            "freetype           conda-forge/linux-64::freetype-2.10.2-he06d7ca_0\n",
            "glib               pkgs/main/linux-64::glib-2.65.0-h3eb4bd4_0\n",
            "icu                conda-forge/linux-64::icu-67.1-he1b5a44_0\n",
            "jpeg               conda-forge/linux-64::jpeg-9d-h516909a_0\n",
            "libblas            conda-forge/linux-64::libblas-3.8.0-14_openblas\n",
            "libcblas           conda-forge/linux-64::libcblas-3.8.0-14_openblas\n",
            "libgfortran-ng     conda-forge/linux-64::libgfortran-ng-7.5.0-hdf63c60_6\n",
            "libiconv           conda-forge/linux-64::libiconv-1.15-h516909a_1006\n",
            "liblapack          conda-forge/linux-64::liblapack-3.8.0-14_openblas\n",
            "libopenblas        conda-forge/linux-64::libopenblas-0.3.7-h5ec1e0e_6\n",
            "libpng             conda-forge/linux-64::libpng-1.6.37-hed695b0_1\n",
            "libtiff            conda-forge/linux-64::libtiff-4.1.0-hc7e4089_6\n",
            "libuuid            conda-forge/linux-64::libuuid-2.32.1-h14c3975_1000\n",
            "libwebp-base       conda-forge/linux-64::libwebp-base-1.1.0-h516909a_3\n",
            "libxcb             conda-forge/linux-64::libxcb-1.13-h14c3975_1002\n",
            "libxml2            conda-forge/linux-64::libxml2-2.9.10-h72b56ed_1\n",
            "lz4-c              conda-forge/linux-64::lz4-c-1.9.2-he1b5a44_1\n",
            "numpy              conda-forge/linux-64::numpy-1.18.5-py37h8960a57_0\n",
            "olefile            conda-forge/noarch::olefile-0.46-py_0\n",
            "pandas             conda-forge/linux-64::pandas-1.0.5-py37h0da4684_0\n",
            "pcre               conda-forge/linux-64::pcre-8.44-he1b5a44_0\n",
            "pillow             pkgs/main/linux-64::pillow-7.0.0-py37hb39fc2d_0\n",
            "pixman             conda-forge/linux-64::pixman-0.38.0-h516909a_1003\n",
            "pthread-stubs      conda-forge/linux-64::pthread-stubs-0.4-h14c3975_1001\n",
            "pycairo            conda-forge/linux-64::pycairo-1.19.1-py37h01af8b0_3\n",
            "python-dateutil    conda-forge/noarch::python-dateutil-2.8.1-py_0\n",
            "python_abi         conda-forge/linux-64::python_abi-3.7-1_cp37m\n",
            "pytz               conda-forge/noarch::pytz-2020.1-pyh9f0ad1d_0\n",
            "rdkit              conda-forge/linux-64::rdkit-2020.03.4-py37hdd87690_0\n",
            "xorg-kbproto       conda-forge/linux-64::xorg-kbproto-1.0.7-h14c3975_1002\n",
            "xorg-libice        conda-forge/linux-64::xorg-libice-1.0.10-h516909a_0\n",
            "xorg-libsm         conda-forge/linux-64::xorg-libsm-1.2.3-h84519dc_1000\n",
            "xorg-libx11        conda-forge/linux-64::xorg-libx11-1.6.9-h516909a_0\n",
            "xorg-libxau        conda-forge/linux-64::xorg-libxau-1.0.9-h14c3975_0\n",
            "xorg-libxdmcp      conda-forge/linux-64::xorg-libxdmcp-1.1.3-h516909a_0\n",
            "xorg-libxext       conda-forge/linux-64::xorg-libxext-1.3.4-h516909a_0\n",
            "xorg-libxrender    conda-forge/linux-64::xorg-libxrender-0.9.10-h516909a_1002\n",
            "xorg-renderproto   conda-forge/linux-64::xorg-renderproto-0.11.1-h14c3975_1002\n",
            "xorg-xextproto     conda-forge/linux-64::xorg-xextproto-7.3.0-h14c3975_1002\n",
            "xorg-xproto        conda-forge/linux-64::xorg-xproto-7.0.31-h14c3975_1007\n",
            "zstd               conda-forge/linux-64::zstd-1.4.4-h6597ccf_3\n",
            "The following packages will be UPDATED:\n",
            "ca-certificates     pkgs/main::ca-certificates-2020.1.1-0 --> conda-forge::ca-certificates-2020.6.20-hecda079_0\n",
            "certifi              pkgs/main::certifi-2020.4.5.1-py37_0 --> conda-forge::certifi-2020.6.20-py37hc8dfbb8_0\n",
            "conda                       pkgs/main::conda-4.8.3-py37_0 --> conda-forge::conda-4.8.3-py37hc8dfbb8_1\n",
            "The following packages will be SUPERSEDED by a higher-priority channel:\n",
            "openssl              pkgs/main::openssl-1.1.1g-h7b6447c_0 --> conda-forge::openssl-1.1.1g-h516909a_0\n",
            "Preparing transaction: ...working... done\n",
            "Verifying transaction: ...working... done\n",
            "Executing transaction: ...working... done\n",
            "CMD: conda install -q -y  -c rdkit -c conda-forge umap-learn\n",
            "Collecting package metadata (current_repodata.json): ...working... done\n",
            "Solving environment: ...working... done\n",
            "## Package Plan ##\n",
            "environment location: /usr/local\n",
            "added / updated specs:\n",
            "- umap-learn\n",
            "The following packages will be downloaded:\n",
            "package                    |            build\n",
            "---------------------------|-----------------\n",
            "joblib-0.16.0              |             py_0         203 KB  conda-forge\n",
            "libllvm9-9.0.1             |       he513fc3_1        25.1 MB  conda-forge\n",
            "llvm-tools-9.0.1           |       he513fc3_1         4.9 MB  conda-forge\n",
            "llvmdev-9.0.1              |       he513fc3_1        38.0 MB  conda-forge\n",
            "llvmlite-0.33.0            |   py37h5202443_0         330 KB  conda-forge\n",
            "numba-0.50.1               |   py37h0da4684_1         3.6 MB  conda-forge\n",
            "scikit-learn-0.23.1        |   py37h8a51577_0         6.8 MB  conda-forge\n",
            "scipy-1.5.0                |   py37ha3d9a3c_0        18.6 MB  conda-forge\n",
            "tbb-2020.1                 |       hc9558a2_0         1.4 MB  conda-forge\n",
            "threadpoolctl-2.1.0        |     pyh5ca1d4c_0          15 KB  conda-forge\n",
            "umap-learn-0.4.6           |   py37hc8dfbb8_0         110 KB  conda-forge\n",
            "------------------------------------------------------------\n",
            "Total:        99.0 MB\n",
            "The following NEW packages will be INSTALLED:\n",
            "joblib             conda-forge/noarch::joblib-0.16.0-py_0\n",
            "libllvm9           conda-forge/linux-64::libllvm9-9.0.1-he513fc3_1\n",
            "llvm-tools         conda-forge/linux-64::llvm-tools-9.0.1-he513fc3_1\n",
            "llvmdev            conda-forge/linux-64::llvmdev-9.0.1-he513fc3_1\n",
            "llvmlite           conda-forge/linux-64::llvmlite-0.33.0-py37h5202443_0\n",
            "numba              conda-forge/linux-64::numba-0.50.1-py37h0da4684_1\n",
            "scikit-learn       conda-forge/linux-64::scikit-learn-0.23.1-py37h8a51577_0\n",
            "scipy              conda-forge/linux-64::scipy-1.5.0-py37ha3d9a3c_0\n",
            "tbb                conda-forge/linux-64::tbb-2020.1-hc9558a2_0\n",
            "threadpoolctl      conda-forge/noarch::threadpoolctl-2.1.0-pyh5ca1d4c_0\n",
            "umap-learn         conda-forge/linux-64::umap-learn-0.4.6-py37hc8dfbb8_0\n",
            "Preparing transaction: ...working... done\n",
            "Verifying transaction: ...working... done\n",
            "Executing transaction: ...working... done\n",
            "Append \"/usr/local/lib/python3.7/site-packages/\" to sys.path, or use \"colab_utils.add_conda_dir_to_python_path()\"!\n",
            "pip installing ['e3fp', 'selfies']\n",
            "CMD: pip install  e3fp\n",
            "Collecting e3fp\n",
            "Downloading e3fp-1.2.1.tar.gz (1.0 MB)\n",
            "Installing build dependencies: started\n",
            "Installing build dependencies: finished with status 'done'\n",
            "Getting requirements to build wheel: started\n",
            "Getting requirements to build wheel: finished with status 'done'\n",
            "Preparing wheel metadata: started\n",
            "Preparing wheel metadata: finished with status 'done'\n",
            "Requirement already satisfied: numpy>=1.11.3 in /usr/local/lib/python3.7/site-packages (from e3fp) (1.18.5)\n",
            "Collecting sdaxen-python-utilities>=0.1.4\n",
            "Downloading sdaxen_python_utilities-0.1.4.tar.gz (10 kB)\n",
            "Collecting mmh3>=2.3.1\n",
            "Downloading mmh3-2.5.1.tar.gz (9.8 kB)\n",
            "Requirement already satisfied: scipy>=0.18.0 in /usr/local/lib/python3.7/site-packages (from e3fp) (1.5.0)\n",
            "Collecting cython>=0.25.2\n",
            "Using cached Cython-0.29.21-cp37-cp37m-manylinux1_x86_64.whl (2.0 MB)\n",
            "Building wheels for collected packages: e3fp, sdaxen-python-utilities, mmh3\n",
            "Building wheel for e3fp (PEP 517): started\n",
            "Building wheel for e3fp (PEP 517): finished with status 'done'\n",
            "Created wheel for e3fp: filename=e3fp-1.2.1-cp37-cp37m-linux_x86_64.whl size=1317444 sha256=50ad07a603d2b240f66921c616fc3c3ef3a5a651607d5ff0a041c9bef547c83c\n",
            "Stored in directory: /root/.cache/pip/wheels/17/4b/6e/bcb2040f207a2f7647a74ef7d40ff8171d90a795c2149bb313\n",
            "Building wheel for sdaxen-python-utilities (setup.py): started\n",
            "Building wheel for sdaxen-python-utilities (setup.py): finished with status 'done'\n",
            "Created wheel for sdaxen-python-utilities: filename=sdaxen_python_utilities-0.1.4-py3-none-any.whl size=12372 sha256=8a4fe60ce67462abebe2309eca3bb3c05cf4ffcb724042a4ee3f99377e30da7b\n",
            "Stored in directory: /root/.cache/pip/wheels/42/b0/83/6461720127d35bbe59639ae505b32cb6c0c5a08c0a3a30caef\n",
            "Building wheel for mmh3 (setup.py): started\n",
            "Building wheel for mmh3 (setup.py): finished with status 'done'\n",
            "Created wheel for mmh3: filename=mmh3-2.5.1-cp37-cp37m-linux_x86_64.whl size=39684 sha256=0772d7fab6d05dad61818635e91bb443c30ffba818139ce6defaae43058ad0e3\n",
            "Stored in directory: /root/.cache/pip/wheels/ae/45/25/90e097a519143b2dca74cd93a056894a965f27908103e01799\n",
            "Successfully built e3fp sdaxen-python-utilities mmh3\n",
            "Installing collected packages: sdaxen-python-utilities, mmh3, cython, e3fp\n",
            "Successfully installed cython-0.29.21 e3fp-1.2.1 mmh3-2.5.1 sdaxen-python-utilities-0.1.4\n",
            "CMD: pip install  selfies\n",
            "Collecting selfies\n",
            "Downloading selfies-0.2.4-py3-none-any.whl (15 kB)\n",
            "Installing collected packages: selfies\n",
            "Successfully installed selfies-0.2.4\n"
          ],
          "name": "stdout"
        }
      ]
    },
    {
      "cell_type": "code",
      "metadata": {
        "id": "-pQu7DgK6Qth",
        "colab_type": "code",
        "colab": {
          "base_uri": "https://localhost:8080/",
          "height": 34
        },
        "outputId": "c2634150-09ed-4a7a-b852-d8d2c17598c6"
      },
      "source": [
        "import sys\n",
        "import os\n",
        "sys.path.append('/usr/local/lib/python3.7/site-packages/')\n",
        "\n",
        "import matplotlib as mpl\n",
        "import matplotlib.pyplot as plt\n",
        "import seaborn as sns\n",
        "\n",
        "import scipy as sp\n",
        "import scipy.stats as stats\n",
        "import sklearn\n",
        "import sklearn.model_selection\n",
        "import sklearn.metrics\n",
        "import sklearn.cluster\n",
        "import pandas as pd\n",
        "import numpy as np\n",
        "from IPython.display import display, HTML \n",
        "np.set_printoptions(threshold=sys.maxsize)\n",
        "\n",
        "# utils\n",
        "from tqdm.autonotebook import tqdm\n",
        "from collections import OrderedDict\n",
        "import itertools\n",
        "\n",
        "# rdkit stuff\n",
        "from rdkit import Chem\n",
        "from rdkit.Chem import AllChem\n",
        "from rdkit.Chem.Draw import IPythonConsole\n",
        "from rdkit.Chem import Draw\n",
        "from rdkit import DataStructs\n",
        "from rdkit.SimDivFilters.rdSimDivPickers import MaxMinPicker\n",
        "\n",
        "tqdm.pandas()\n",
        "sns.set_context('talk', font_scale=1.5)\n",
        "sns.set_style(\"white\")\n",
        "plt.rc('lines', linewidth=2)\n",
        "plt.rc('figure', figsize=(10,5))\n",
        "import altair as alt\n",
        "\n",
        "#google drive stuff\n",
        "# from pydrive.auth import GoogleAuth\n",
        "# from pydrive.drive import GoogleDrive\n",
        "# from google.colab import auth\n",
        "# from oauth2client.client import GoogleCredentials\n",
        "# auth.authenticate_user()\n",
        "# gauth = GoogleAuth()\n",
        "# gauth.credentials = GoogleCredentials.get_application_default()\n",
        "# drive = GoogleDrive(gauth)"
      ],
      "execution_count": 5,
      "outputs": [
        {
          "output_type": "stream",
          "text": [
            "/usr/local/lib/python3.6/dist-packages/ipykernel_launcher.py:21: TqdmExperimentalWarning: Using `tqdm.autonotebook.tqdm` in notebook mode. Use `tqdm.tqdm` instead to force console mode (e.g. in jupyter console)\n"
          ],
          "name": "stderr"
        }
      ]
    },
    {
      "cell_type": "code",
      "metadata": {
        "id": "7smNtGAt6Wer",
        "colab_type": "code",
        "colab": {}
      },
      "source": [
        "all = pd.read_csv('/content/drive/My Drive/Extracurricular/Internships/Research/TB Internship/FullMerged.csv')"
      ],
      "execution_count": 13,
      "outputs": []
    },
    {
      "cell_type": "code",
      "metadata": {
        "id": "XWN3CbZm67Fd",
        "colab_type": "code",
        "colab": {
          "base_uri": "https://localhost:8080/",
          "height": 1000
        },
        "outputId": "c97e8bf3-ecba-45c1-93fa-883fcc7d4aef"
      },
      "source": [
        "all = all.loc[all.concentration == 30]\n",
        "all['mol'] = all.SMILES.apply(Chem.MolFromSmiles)\n",
        "all['fingerprints'] = all.mol.apply(lambda x: AllChem.GetMorganFingerprint(x,2))\n",
        "display(all.head())\n",
        "display(all.info())\n",
        "display(all.strain.unique())"
      ],
      "execution_count": 14,
      "outputs": [
        {
          "output_type": "display_data",
          "data": {
            "text/html": [
              "<div>\n",
              "<style scoped>\n",
              "    .dataframe tbody tr th:only-of-type {\n",
              "        vertical-align: middle;\n",
              "    }\n",
              "\n",
              "    .dataframe tbody tr th {\n",
              "        vertical-align: top;\n",
              "    }\n",
              "\n",
              "    .dataframe thead th {\n",
              "        text-align: right;\n",
              "    }\n",
              "</style>\n",
              "<table border=\"1\" class=\"dataframe\">\n",
              "  <thead>\n",
              "    <tr style=\"text-align: right;\">\n",
              "      <th></th>\n",
              "      <th>compound_stem</th>\n",
              "      <th>SMILES</th>\n",
              "      <th>compound_name</th>\n",
              "      <th>pubchem_cid</th>\n",
              "      <th>kegg_id</th>\n",
              "      <th>compound</th>\n",
              "      <th>concentration</th>\n",
              "      <th>strain</th>\n",
              "      <th>n_replicates</th>\n",
              "      <th>log_fold_change</th>\n",
              "      <th>std_error_lfc</th>\n",
              "      <th>log2_fold_change</th>\n",
              "      <th>std_error_l2fc</th>\n",
              "      <th>z_score</th>\n",
              "      <th>p_value</th>\n",
              "      <th>mol</th>\n",
              "      <th>fingerprints</th>\n",
              "    </tr>\n",
              "  </thead>\n",
              "  <tbody>\n",
              "    <tr>\n",
              "      <th>1</th>\n",
              "      <td>A00113255</td>\n",
              "      <td>CC1(C)C[C@H](C2CC[C@]3(C)C(=CC[C@@H]4[C@@]5(C)...</td>\n",
              "      <td>Oleanolic Acid, Caryophyllin, Astrantiagenin C...</td>\n",
              "      <td>49867939.0</td>\n",
              "      <td>NaN</td>\n",
              "      <td>BRD-A00113255-001-01-8</td>\n",
              "      <td>30.0</td>\n",
              "      <td>aceE</td>\n",
              "      <td>8.0</td>\n",
              "      <td>0.406739</td>\n",
              "      <td>0.095449</td>\n",
              "      <td>0.586800</td>\n",
              "      <td>0.137704</td>\n",
              "      <td>4.261321</td>\n",
              "      <td>2.053183e-05</td>\n",
              "      <td>&lt;rdkit.Chem.rdchem.Mol object at 0x7f9cab542490&gt;</td>\n",
              "      <td>&lt;rdkit.DataStructs.cDataStructs.UIntSparseIntV...</td>\n",
              "    </tr>\n",
              "    <tr>\n",
              "      <th>5</th>\n",
              "      <td>A00113255</td>\n",
              "      <td>CC1(C)C[C@H](C2CC[C@]3(C)C(=CC[C@@H]4[C@@]5(C)...</td>\n",
              "      <td>Oleanolic Acid, Caryophyllin, Astrantiagenin C...</td>\n",
              "      <td>49867939.0</td>\n",
              "      <td>NaN</td>\n",
              "      <td>BRD-A00113255-001-01-8</td>\n",
              "      <td>30.0</td>\n",
              "      <td>adoK</td>\n",
              "      <td>8.0</td>\n",
              "      <td>0.504762</td>\n",
              "      <td>0.077725</td>\n",
              "      <td>0.728218</td>\n",
              "      <td>0.112134</td>\n",
              "      <td>6.494179</td>\n",
              "      <td>8.796086e-11</td>\n",
              "      <td>&lt;rdkit.Chem.rdchem.Mol object at 0x7f9cab542120&gt;</td>\n",
              "      <td>&lt;rdkit.DataStructs.cDataStructs.UIntSparseIntV...</td>\n",
              "    </tr>\n",
              "    <tr>\n",
              "      <th>9</th>\n",
              "      <td>A00113255</td>\n",
              "      <td>CC1(C)C[C@H](C2CC[C@]3(C)C(=CC[C@@H]4[C@@]5(C)...</td>\n",
              "      <td>Oleanolic Acid, Caryophyllin, Astrantiagenin C...</td>\n",
              "      <td>49867939.0</td>\n",
              "      <td>NaN</td>\n",
              "      <td>BRD-A00113255-001-01-8</td>\n",
              "      <td>30.0</td>\n",
              "      <td>alaS</td>\n",
              "      <td>8.0</td>\n",
              "      <td>0.442811</td>\n",
              "      <td>0.113985</td>\n",
              "      <td>0.638841</td>\n",
              "      <td>0.164445</td>\n",
              "      <td>3.884817</td>\n",
              "      <td>1.031498e-04</td>\n",
              "      <td>&lt;rdkit.Chem.rdchem.Mol object at 0x7f9cab5424e0&gt;</td>\n",
              "      <td>&lt;rdkit.DataStructs.cDataStructs.UIntSparseIntV...</td>\n",
              "    </tr>\n",
              "    <tr>\n",
              "      <th>13</th>\n",
              "      <td>A00113255</td>\n",
              "      <td>CC1(C)C[C@H](C2CC[C@]3(C)C(=CC[C@@H]4[C@@]5(C)...</td>\n",
              "      <td>Oleanolic Acid, Caryophyllin, Astrantiagenin C...</td>\n",
              "      <td>49867939.0</td>\n",
              "      <td>NaN</td>\n",
              "      <td>BRD-A00113255-001-01-8</td>\n",
              "      <td>30.0</td>\n",
              "      <td>alr</td>\n",
              "      <td>8.0</td>\n",
              "      <td>0.268849</td>\n",
              "      <td>0.080620</td>\n",
              "      <td>0.387867</td>\n",
              "      <td>0.116310</td>\n",
              "      <td>3.334759</td>\n",
              "      <td>8.572283e-04</td>\n",
              "      <td>&lt;rdkit.Chem.rdchem.Mol object at 0x7f9cab542170&gt;</td>\n",
              "      <td>&lt;rdkit.DataStructs.cDataStructs.UIntSparseIntV...</td>\n",
              "    </tr>\n",
              "    <tr>\n",
              "      <th>17</th>\n",
              "      <td>A00113255</td>\n",
              "      <td>CC1(C)C[C@H](C2CC[C@]3(C)C(=CC[C@@H]4[C@@]5(C)...</td>\n",
              "      <td>Oleanolic Acid, Caryophyllin, Astrantiagenin C...</td>\n",
              "      <td>49867939.0</td>\n",
              "      <td>NaN</td>\n",
              "      <td>BRD-A00113255-001-01-8</td>\n",
              "      <td>30.0</td>\n",
              "      <td>argC</td>\n",
              "      <td>8.0</td>\n",
              "      <td>0.396642</td>\n",
              "      <td>0.114699</td>\n",
              "      <td>0.572233</td>\n",
              "      <td>0.165475</td>\n",
              "      <td>3.458115</td>\n",
              "      <td>5.465171e-04</td>\n",
              "      <td>&lt;rdkit.Chem.rdchem.Mol object at 0x7f9cab542850&gt;</td>\n",
              "      <td>&lt;rdkit.DataStructs.cDataStructs.UIntSparseIntV...</td>\n",
              "    </tr>\n",
              "  </tbody>\n",
              "</table>\n",
              "</div>"
            ],
            "text/plain": [
              "   compound_stem  ...                                       fingerprints\n",
              "1      A00113255  ...  <rdkit.DataStructs.cDataStructs.UIntSparseIntV...\n",
              "5      A00113255  ...  <rdkit.DataStructs.cDataStructs.UIntSparseIntV...\n",
              "9      A00113255  ...  <rdkit.DataStructs.cDataStructs.UIntSparseIntV...\n",
              "13     A00113255  ...  <rdkit.DataStructs.cDataStructs.UIntSparseIntV...\n",
              "17     A00113255  ...  <rdkit.DataStructs.cDataStructs.UIntSparseIntV...\n",
              "\n",
              "[5 rows x 17 columns]"
            ]
          },
          "metadata": {
            "tags": []
          }
        },
        {
          "output_type": "stream",
          "text": [
            "<class 'pandas.core.frame.DataFrame'>\n",
            "Int64Index: 109344 entries, 1 to 447267\n",
            "Data columns (total 17 columns):\n",
            " #   Column            Non-Null Count   Dtype  \n",
            "---  ------            --------------   -----  \n",
            " 0   compound_stem     109344 non-null  object \n",
            " 1   SMILES            109344 non-null  object \n",
            " 2   compound_name     109242 non-null  object \n",
            " 3   pubchem_cid       102510 non-null  float64\n",
            " 4   kegg_id           49878 non-null   object \n",
            " 5   compound          109344 non-null  object \n",
            " 6   concentration     109344 non-null  float64\n",
            " 7   strain            109344 non-null  object \n",
            " 8   n_replicates      109344 non-null  float64\n",
            " 9   log_fold_change   109344 non-null  float64\n",
            " 10  std_error_lfc     109344 non-null  float64\n",
            " 11  log2_fold_change  109344 non-null  float64\n",
            " 12  std_error_l2fc    109344 non-null  float64\n",
            " 13  z_score           109344 non-null  float64\n",
            " 14  p_value           109344 non-null  float64\n",
            " 15  mol               109344 non-null  object \n",
            " 16  fingerprints      109344 non-null  object \n",
            "dtypes: float64(9), object(8)\n",
            "memory usage: 15.0+ MB\n"
          ],
          "name": "stdout"
        },
        {
          "output_type": "display_data",
          "data": {
            "text/plain": [
              "None"
            ]
          },
          "metadata": {
            "tags": []
          }
        },
        {
          "output_type": "display_data",
          "data": {
            "text/plain": [
              "array(['aceE', 'adoK', 'alaS', 'alr', 'argC', 'argG', 'aspS', 'atpDC',\n",
              "       'canB', 'ccsX', 'clpP1P2', 'ctaC', 'dapF', 'def', 'desA1', 'desA2',\n",
              "       'dfrA', 'dnaE1', 'dnaK', 'dnaN', 'efpA', 'eno', 'fadD32', 'fas',\n",
              "       'fba', 'fmt', 'folB', 'ftsK', 'fum', 'gca', 'glcB', 'glgB', 'gltB',\n",
              "       'gpm1', 'gpsI', 'gyrA', 'gyrB', 'H37Rv', 'hemA', 'hemB', 'hemC',\n",
              "       'hisI', 'hsdM', 'icd2', 'ilvC', 'infB', 'ino1', 'intcon1',\n",
              "       'intcon2', 'iscS', 'kasA', 'kasB', 'leuA', 'leuB', 'leuS', 'lipA',\n",
              "       'lipU', 'manB', 'marP', 'mdh', 'menD', 'menE', 'menH', 'mesJ',\n",
              "       'metS', 'moxR1', 'mprB', 'mshC', 'murA', 'murC', 'murD', 'murG',\n",
              "       'mycP3', 'nadE', 'nrdH', 'otsA', 'pcnA', 'ppm1', 'prcBA', 'prfA',\n",
              "       'proC', 'proS', 'rocA', 'rpoB', 'rpsM', 'Rv0282', 'Rv0283',\n",
              "       'Rv0289', 'Rv0338c', 'Rv1339', 'Rv1797', 'Rv2017', 'Rv3267',\n",
              "       'Rv3644c', 'Rv3719', 'secY', 'serC', 'topA', 'tpi', 'trpA', 'trpG',\n",
              "       'trpS'], dtype=object)"
            ]
          },
          "metadata": {
            "tags": []
          }
        }
      ]
    },
    {
      "cell_type": "code",
      "metadata": {
        "id": "o6xE5JAw8QXr",
        "colab_type": "code",
        "colab": {}
      },
      "source": [
        "def tani(f1, f2):\n",
        "  return DataStructs.TanimotoSimilarity(f1,f2)"
      ],
      "execution_count": 15,
      "outputs": []
    },
    {
      "cell_type": "code",
      "metadata": {
        "id": "_aC7yCs0dh7B",
        "colab_type": "code",
        "colab": {
          "base_uri": "https://localhost:8080/",
          "height": 1000
        },
        "outputId": "61fc44db-eccf-4565-f093-b4402d87432a"
      },
      "source": [
        "r_value_list = []\n",
        "index = 0\n",
        "for strain in all.strain.unique():\n",
        "  print(str(index) + \" \" + strain)\n",
        "  df = all.loc[all.strain == strain]\n",
        "  fps = np.array(df.fingerprints.values.tolist())\n",
        "  zscores = np.array(df.z_score.values.tolist())\n",
        "\n",
        "  sim_lists = []\n",
        "  for ref in fps:\n",
        "    sim = []\n",
        "    for fp in fps:\n",
        "      sim.append(tani(ref, fp))\n",
        "    sim_lists.append(sim)\n",
        "\n",
        "\n",
        "  diff_lists = []\n",
        "  for zref in zscores:\n",
        "    diff = []\n",
        "    for z in zscores:\n",
        "      diff.append(np.linalg.norm(zref - z))\n",
        "    diff_lists.append(diff)\n",
        "\n",
        "  sim_lists = np.array(sim_lists)\n",
        "  diff_lists = np.array(diff_lists)\n",
        "\n",
        "  r_values = []\n",
        "  for sim,diff in zip(sim_lists, diff_lists):\n",
        "    slope, intercept, r_value, p_value, std_err = stats.linregress(sim,diff)\n",
        "    r_values.append(r_value)\n",
        "  r_value_list.append(np.array(r_values))\n",
        "  index = index + 1"
      ],
      "execution_count": 16,
      "outputs": [
        {
          "output_type": "stream",
          "text": [
            "0 aceE\n",
            "1 adoK\n",
            "2 alaS\n",
            "3 alr\n",
            "4 argC\n",
            "5 argG\n",
            "6 aspS\n",
            "7 atpDC\n",
            "8 canB\n",
            "9 ccsX\n",
            "10 clpP1P2\n",
            "11 ctaC\n",
            "12 dapF\n",
            "13 def\n",
            "14 desA1\n",
            "15 desA2\n",
            "16 dfrA\n",
            "17 dnaE1\n",
            "18 dnaK\n",
            "19 dnaN\n",
            "20 efpA\n",
            "21 eno\n",
            "22 fadD32\n",
            "23 fas\n",
            "24 fba\n",
            "25 fmt\n",
            "26 folB\n",
            "27 ftsK\n",
            "28 fum\n",
            "29 gca\n",
            "30 glcB\n",
            "31 glgB\n",
            "32 gltB\n",
            "33 gpm1\n",
            "34 gpsI\n",
            "35 gyrA\n",
            "36 gyrB\n",
            "37 H37Rv\n",
            "38 hemA\n",
            "39 hemB\n",
            "40 hemC\n",
            "41 hisI\n",
            "42 hsdM\n",
            "43 icd2\n",
            "44 ilvC\n",
            "45 infB\n",
            "46 ino1\n",
            "47 intcon1\n",
            "48 intcon2\n",
            "49 iscS\n",
            "50 kasA\n",
            "51 kasB\n",
            "52 leuA\n",
            "53 leuB\n",
            "54 leuS\n",
            "55 lipA\n",
            "56 lipU\n",
            "57 manB\n",
            "58 marP\n",
            "59 mdh\n",
            "60 menD\n",
            "61 menE\n",
            "62 menH\n",
            "63 mesJ\n",
            "64 metS\n",
            "65 moxR1\n",
            "66 mprB\n",
            "67 mshC\n",
            "68 murA\n",
            "69 murC\n",
            "70 murD\n",
            "71 murG\n",
            "72 mycP3\n",
            "73 nadE\n",
            "74 nrdH\n",
            "75 otsA\n",
            "76 pcnA\n",
            "77 ppm1\n",
            "78 prcBA\n",
            "79 prfA\n",
            "80 proC\n",
            "81 proS\n",
            "82 rocA\n",
            "83 rpoB\n",
            "84 rpsM\n",
            "85 Rv0282\n",
            "86 Rv0283\n",
            "87 Rv0289\n",
            "88 Rv0338c\n",
            "89 Rv1339\n",
            "90 Rv1797\n",
            "91 Rv2017\n",
            "92 Rv3267\n",
            "93 Rv3644c\n",
            "94 Rv3719\n",
            "95 secY\n",
            "96 serC\n",
            "97 topA\n",
            "98 tpi\n",
            "99 trpA\n",
            "100 trpG\n",
            "101 trpS\n"
          ],
          "name": "stdout"
        }
      ]
    },
    {
      "cell_type": "code",
      "metadata": {
        "id": "idbg5gDQJFjL",
        "colab_type": "code",
        "colab": {}
      },
      "source": [
        "df = pd.DataFrame({'strain': all.strain.unique(), 'r_values': r_value_list}, columns=['strain', 'r_values'])\n",
        "df['means'] = df.r_values.apply(lambda x: np.mean(x))"
      ],
      "execution_count": 17,
      "outputs": []
    },
    {
      "cell_type": "code",
      "metadata": {
        "id": "V7xzlBfzMLB6",
        "colab_type": "code",
        "colab": {
          "base_uri": "https://localhost:8080/",
          "height": 1000
        },
        "outputId": "5c78d89c-e778-4b98-921d-fd22df96cb1f"
      },
      "source": [
        "for li in df.r_values:\n",
        "  display(sns.distplot(li))"
      ],
      "execution_count": 19,
      "outputs": [
        {
          "output_type": "display_data",
          "data": {
            "text/plain": [
              "<matplotlib.axes._subplots.AxesSubplot at 0x7f9caa6aebe0>"
            ]
          },
          "metadata": {
            "tags": []
          }
        },
        {
          "output_type": "display_data",
          "data": {
            "text/plain": [
              "<matplotlib.axes._subplots.AxesSubplot at 0x7f9caa6aebe0>"
            ]
          },
          "metadata": {
            "tags": []
          }
        },
        {
          "output_type": "display_data",
          "data": {
            "text/plain": [
              "<matplotlib.axes._subplots.AxesSubplot at 0x7f9caa6aebe0>"
            ]
          },
          "metadata": {
            "tags": []
          }
        },
        {
          "output_type": "display_data",
          "data": {
            "text/plain": [
              "<matplotlib.axes._subplots.AxesSubplot at 0x7f9caa6aebe0>"
            ]
          },
          "metadata": {
            "tags": []
          }
        },
        {
          "output_type": "display_data",
          "data": {
            "text/plain": [
              "<matplotlib.axes._subplots.AxesSubplot at 0x7f9caa6aebe0>"
            ]
          },
          "metadata": {
            "tags": []
          }
        },
        {
          "output_type": "display_data",
          "data": {
            "text/plain": [
              "<matplotlib.axes._subplots.AxesSubplot at 0x7f9caa6aebe0>"
            ]
          },
          "metadata": {
            "tags": []
          }
        },
        {
          "output_type": "display_data",
          "data": {
            "text/plain": [
              "<matplotlib.axes._subplots.AxesSubplot at 0x7f9caa6aebe0>"
            ]
          },
          "metadata": {
            "tags": []
          }
        },
        {
          "output_type": "display_data",
          "data": {
            "text/plain": [
              "<matplotlib.axes._subplots.AxesSubplot at 0x7f9caa6aebe0>"
            ]
          },
          "metadata": {
            "tags": []
          }
        },
        {
          "output_type": "display_data",
          "data": {
            "text/plain": [
              "<matplotlib.axes._subplots.AxesSubplot at 0x7f9caa6aebe0>"
            ]
          },
          "metadata": {
            "tags": []
          }
        },
        {
          "output_type": "display_data",
          "data": {
            "text/plain": [
              "<matplotlib.axes._subplots.AxesSubplot at 0x7f9caa6aebe0>"
            ]
          },
          "metadata": {
            "tags": []
          }
        },
        {
          "output_type": "display_data",
          "data": {
            "text/plain": [
              "<matplotlib.axes._subplots.AxesSubplot at 0x7f9caa6aebe0>"
            ]
          },
          "metadata": {
            "tags": []
          }
        },
        {
          "output_type": "display_data",
          "data": {
            "text/plain": [
              "<matplotlib.axes._subplots.AxesSubplot at 0x7f9caa6aebe0>"
            ]
          },
          "metadata": {
            "tags": []
          }
        },
        {
          "output_type": "display_data",
          "data": {
            "text/plain": [
              "<matplotlib.axes._subplots.AxesSubplot at 0x7f9caa6aebe0>"
            ]
          },
          "metadata": {
            "tags": []
          }
        },
        {
          "output_type": "display_data",
          "data": {
            "text/plain": [
              "<matplotlib.axes._subplots.AxesSubplot at 0x7f9caa6aebe0>"
            ]
          },
          "metadata": {
            "tags": []
          }
        },
        {
          "output_type": "display_data",
          "data": {
            "text/plain": [
              "<matplotlib.axes._subplots.AxesSubplot at 0x7f9caa6aebe0>"
            ]
          },
          "metadata": {
            "tags": []
          }
        },
        {
          "output_type": "display_data",
          "data": {
            "text/plain": [
              "<matplotlib.axes._subplots.AxesSubplot at 0x7f9caa6aebe0>"
            ]
          },
          "metadata": {
            "tags": []
          }
        },
        {
          "output_type": "display_data",
          "data": {
            "text/plain": [
              "<matplotlib.axes._subplots.AxesSubplot at 0x7f9caa6aebe0>"
            ]
          },
          "metadata": {
            "tags": []
          }
        },
        {
          "output_type": "display_data",
          "data": {
            "text/plain": [
              "<matplotlib.axes._subplots.AxesSubplot at 0x7f9caa6aebe0>"
            ]
          },
          "metadata": {
            "tags": []
          }
        },
        {
          "output_type": "display_data",
          "data": {
            "text/plain": [
              "<matplotlib.axes._subplots.AxesSubplot at 0x7f9caa6aebe0>"
            ]
          },
          "metadata": {
            "tags": []
          }
        },
        {
          "output_type": "display_data",
          "data": {
            "text/plain": [
              "<matplotlib.axes._subplots.AxesSubplot at 0x7f9caa6aebe0>"
            ]
          },
          "metadata": {
            "tags": []
          }
        },
        {
          "output_type": "display_data",
          "data": {
            "text/plain": [
              "<matplotlib.axes._subplots.AxesSubplot at 0x7f9caa6aebe0>"
            ]
          },
          "metadata": {
            "tags": []
          }
        },
        {
          "output_type": "display_data",
          "data": {
            "text/plain": [
              "<matplotlib.axes._subplots.AxesSubplot at 0x7f9caa6aebe0>"
            ]
          },
          "metadata": {
            "tags": []
          }
        },
        {
          "output_type": "display_data",
          "data": {
            "text/plain": [
              "<matplotlib.axes._subplots.AxesSubplot at 0x7f9caa6aebe0>"
            ]
          },
          "metadata": {
            "tags": []
          }
        },
        {
          "output_type": "display_data",
          "data": {
            "text/plain": [
              "<matplotlib.axes._subplots.AxesSubplot at 0x7f9caa6aebe0>"
            ]
          },
          "metadata": {
            "tags": []
          }
        },
        {
          "output_type": "display_data",
          "data": {
            "text/plain": [
              "<matplotlib.axes._subplots.AxesSubplot at 0x7f9caa6aebe0>"
            ]
          },
          "metadata": {
            "tags": []
          }
        },
        {
          "output_type": "display_data",
          "data": {
            "text/plain": [
              "<matplotlib.axes._subplots.AxesSubplot at 0x7f9caa6aebe0>"
            ]
          },
          "metadata": {
            "tags": []
          }
        },
        {
          "output_type": "display_data",
          "data": {
            "text/plain": [
              "<matplotlib.axes._subplots.AxesSubplot at 0x7f9caa6aebe0>"
            ]
          },
          "metadata": {
            "tags": []
          }
        },
        {
          "output_type": "display_data",
          "data": {
            "text/plain": [
              "<matplotlib.axes._subplots.AxesSubplot at 0x7f9caa6aebe0>"
            ]
          },
          "metadata": {
            "tags": []
          }
        },
        {
          "output_type": "display_data",
          "data": {
            "text/plain": [
              "<matplotlib.axes._subplots.AxesSubplot at 0x7f9caa6aebe0>"
            ]
          },
          "metadata": {
            "tags": []
          }
        },
        {
          "output_type": "display_data",
          "data": {
            "text/plain": [
              "<matplotlib.axes._subplots.AxesSubplot at 0x7f9caa6aebe0>"
            ]
          },
          "metadata": {
            "tags": []
          }
        },
        {
          "output_type": "display_data",
          "data": {
            "text/plain": [
              "<matplotlib.axes._subplots.AxesSubplot at 0x7f9caa6aebe0>"
            ]
          },
          "metadata": {
            "tags": []
          }
        },
        {
          "output_type": "display_data",
          "data": {
            "text/plain": [
              "<matplotlib.axes._subplots.AxesSubplot at 0x7f9caa6aebe0>"
            ]
          },
          "metadata": {
            "tags": []
          }
        },
        {
          "output_type": "display_data",
          "data": {
            "text/plain": [
              "<matplotlib.axes._subplots.AxesSubplot at 0x7f9caa6aebe0>"
            ]
          },
          "metadata": {
            "tags": []
          }
        },
        {
          "output_type": "display_data",
          "data": {
            "text/plain": [
              "<matplotlib.axes._subplots.AxesSubplot at 0x7f9caa6aebe0>"
            ]
          },
          "metadata": {
            "tags": []
          }
        },
        {
          "output_type": "display_data",
          "data": {
            "text/plain": [
              "<matplotlib.axes._subplots.AxesSubplot at 0x7f9caa6aebe0>"
            ]
          },
          "metadata": {
            "tags": []
          }
        },
        {
          "output_type": "display_data",
          "data": {
            "text/plain": [
              "<matplotlib.axes._subplots.AxesSubplot at 0x7f9caa6aebe0>"
            ]
          },
          "metadata": {
            "tags": []
          }
        },
        {
          "output_type": "display_data",
          "data": {
            "text/plain": [
              "<matplotlib.axes._subplots.AxesSubplot at 0x7f9caa6aebe0>"
            ]
          },
          "metadata": {
            "tags": []
          }
        },
        {
          "output_type": "display_data",
          "data": {
            "text/plain": [
              "<matplotlib.axes._subplots.AxesSubplot at 0x7f9caa6aebe0>"
            ]
          },
          "metadata": {
            "tags": []
          }
        },
        {
          "output_type": "display_data",
          "data": {
            "text/plain": [
              "<matplotlib.axes._subplots.AxesSubplot at 0x7f9caa6aebe0>"
            ]
          },
          "metadata": {
            "tags": []
          }
        },
        {
          "output_type": "display_data",
          "data": {
            "text/plain": [
              "<matplotlib.axes._subplots.AxesSubplot at 0x7f9caa6aebe0>"
            ]
          },
          "metadata": {
            "tags": []
          }
        },
        {
          "output_type": "display_data",
          "data": {
            "text/plain": [
              "<matplotlib.axes._subplots.AxesSubplot at 0x7f9caa6aebe0>"
            ]
          },
          "metadata": {
            "tags": []
          }
        },
        {
          "output_type": "display_data",
          "data": {
            "text/plain": [
              "<matplotlib.axes._subplots.AxesSubplot at 0x7f9caa6aebe0>"
            ]
          },
          "metadata": {
            "tags": []
          }
        },
        {
          "output_type": "display_data",
          "data": {
            "text/plain": [
              "<matplotlib.axes._subplots.AxesSubplot at 0x7f9caa6aebe0>"
            ]
          },
          "metadata": {
            "tags": []
          }
        },
        {
          "output_type": "display_data",
          "data": {
            "text/plain": [
              "<matplotlib.axes._subplots.AxesSubplot at 0x7f9caa6aebe0>"
            ]
          },
          "metadata": {
            "tags": []
          }
        },
        {
          "output_type": "display_data",
          "data": {
            "text/plain": [
              "<matplotlib.axes._subplots.AxesSubplot at 0x7f9caa6aebe0>"
            ]
          },
          "metadata": {
            "tags": []
          }
        },
        {
          "output_type": "display_data",
          "data": {
            "text/plain": [
              "<matplotlib.axes._subplots.AxesSubplot at 0x7f9caa6aebe0>"
            ]
          },
          "metadata": {
            "tags": []
          }
        },
        {
          "output_type": "display_data",
          "data": {
            "text/plain": [
              "<matplotlib.axes._subplots.AxesSubplot at 0x7f9caa6aebe0>"
            ]
          },
          "metadata": {
            "tags": []
          }
        },
        {
          "output_type": "display_data",
          "data": {
            "text/plain": [
              "<matplotlib.axes._subplots.AxesSubplot at 0x7f9caa6aebe0>"
            ]
          },
          "metadata": {
            "tags": []
          }
        },
        {
          "output_type": "display_data",
          "data": {
            "text/plain": [
              "<matplotlib.axes._subplots.AxesSubplot at 0x7f9caa6aebe0>"
            ]
          },
          "metadata": {
            "tags": []
          }
        },
        {
          "output_type": "display_data",
          "data": {
            "text/plain": [
              "<matplotlib.axes._subplots.AxesSubplot at 0x7f9caa6aebe0>"
            ]
          },
          "metadata": {
            "tags": []
          }
        },
        {
          "output_type": "display_data",
          "data": {
            "text/plain": [
              "<matplotlib.axes._subplots.AxesSubplot at 0x7f9caa6aebe0>"
            ]
          },
          "metadata": {
            "tags": []
          }
        },
        {
          "output_type": "display_data",
          "data": {
            "text/plain": [
              "<matplotlib.axes._subplots.AxesSubplot at 0x7f9caa6aebe0>"
            ]
          },
          "metadata": {
            "tags": []
          }
        },
        {
          "output_type": "display_data",
          "data": {
            "text/plain": [
              "<matplotlib.axes._subplots.AxesSubplot at 0x7f9caa6aebe0>"
            ]
          },
          "metadata": {
            "tags": []
          }
        },
        {
          "output_type": "display_data",
          "data": {
            "text/plain": [
              "<matplotlib.axes._subplots.AxesSubplot at 0x7f9caa6aebe0>"
            ]
          },
          "metadata": {
            "tags": []
          }
        },
        {
          "output_type": "display_data",
          "data": {
            "text/plain": [
              "<matplotlib.axes._subplots.AxesSubplot at 0x7f9caa6aebe0>"
            ]
          },
          "metadata": {
            "tags": []
          }
        },
        {
          "output_type": "display_data",
          "data": {
            "text/plain": [
              "<matplotlib.axes._subplots.AxesSubplot at 0x7f9caa6aebe0>"
            ]
          },
          "metadata": {
            "tags": []
          }
        },
        {
          "output_type": "display_data",
          "data": {
            "text/plain": [
              "<matplotlib.axes._subplots.AxesSubplot at 0x7f9caa6aebe0>"
            ]
          },
          "metadata": {
            "tags": []
          }
        },
        {
          "output_type": "display_data",
          "data": {
            "text/plain": [
              "<matplotlib.axes._subplots.AxesSubplot at 0x7f9caa6aebe0>"
            ]
          },
          "metadata": {
            "tags": []
          }
        },
        {
          "output_type": "display_data",
          "data": {
            "text/plain": [
              "<matplotlib.axes._subplots.AxesSubplot at 0x7f9caa6aebe0>"
            ]
          },
          "metadata": {
            "tags": []
          }
        },
        {
          "output_type": "display_data",
          "data": {
            "text/plain": [
              "<matplotlib.axes._subplots.AxesSubplot at 0x7f9caa6aebe0>"
            ]
          },
          "metadata": {
            "tags": []
          }
        },
        {
          "output_type": "display_data",
          "data": {
            "text/plain": [
              "<matplotlib.axes._subplots.AxesSubplot at 0x7f9caa6aebe0>"
            ]
          },
          "metadata": {
            "tags": []
          }
        },
        {
          "output_type": "display_data",
          "data": {
            "text/plain": [
              "<matplotlib.axes._subplots.AxesSubplot at 0x7f9caa6aebe0>"
            ]
          },
          "metadata": {
            "tags": []
          }
        },
        {
          "output_type": "display_data",
          "data": {
            "text/plain": [
              "<matplotlib.axes._subplots.AxesSubplot at 0x7f9caa6aebe0>"
            ]
          },
          "metadata": {
            "tags": []
          }
        },
        {
          "output_type": "display_data",
          "data": {
            "text/plain": [
              "<matplotlib.axes._subplots.AxesSubplot at 0x7f9caa6aebe0>"
            ]
          },
          "metadata": {
            "tags": []
          }
        },
        {
          "output_type": "display_data",
          "data": {
            "text/plain": [
              "<matplotlib.axes._subplots.AxesSubplot at 0x7f9caa6aebe0>"
            ]
          },
          "metadata": {
            "tags": []
          }
        },
        {
          "output_type": "display_data",
          "data": {
            "text/plain": [
              "<matplotlib.axes._subplots.AxesSubplot at 0x7f9caa6aebe0>"
            ]
          },
          "metadata": {
            "tags": []
          }
        },
        {
          "output_type": "display_data",
          "data": {
            "text/plain": [
              "<matplotlib.axes._subplots.AxesSubplot at 0x7f9caa6aebe0>"
            ]
          },
          "metadata": {
            "tags": []
          }
        },
        {
          "output_type": "display_data",
          "data": {
            "text/plain": [
              "<matplotlib.axes._subplots.AxesSubplot at 0x7f9caa6aebe0>"
            ]
          },
          "metadata": {
            "tags": []
          }
        },
        {
          "output_type": "display_data",
          "data": {
            "text/plain": [
              "<matplotlib.axes._subplots.AxesSubplot at 0x7f9caa6aebe0>"
            ]
          },
          "metadata": {
            "tags": []
          }
        },
        {
          "output_type": "display_data",
          "data": {
            "text/plain": [
              "<matplotlib.axes._subplots.AxesSubplot at 0x7f9caa6aebe0>"
            ]
          },
          "metadata": {
            "tags": []
          }
        },
        {
          "output_type": "display_data",
          "data": {
            "text/plain": [
              "<matplotlib.axes._subplots.AxesSubplot at 0x7f9caa6aebe0>"
            ]
          },
          "metadata": {
            "tags": []
          }
        },
        {
          "output_type": "display_data",
          "data": {
            "text/plain": [
              "<matplotlib.axes._subplots.AxesSubplot at 0x7f9caa6aebe0>"
            ]
          },
          "metadata": {
            "tags": []
          }
        },
        {
          "output_type": "display_data",
          "data": {
            "text/plain": [
              "<matplotlib.axes._subplots.AxesSubplot at 0x7f9caa6aebe0>"
            ]
          },
          "metadata": {
            "tags": []
          }
        },
        {
          "output_type": "display_data",
          "data": {
            "text/plain": [
              "<matplotlib.axes._subplots.AxesSubplot at 0x7f9caa6aebe0>"
            ]
          },
          "metadata": {
            "tags": []
          }
        },
        {
          "output_type": "display_data",
          "data": {
            "text/plain": [
              "<matplotlib.axes._subplots.AxesSubplot at 0x7f9caa6aebe0>"
            ]
          },
          "metadata": {
            "tags": []
          }
        },
        {
          "output_type": "display_data",
          "data": {
            "text/plain": [
              "<matplotlib.axes._subplots.AxesSubplot at 0x7f9caa6aebe0>"
            ]
          },
          "metadata": {
            "tags": []
          }
        },
        {
          "output_type": "display_data",
          "data": {
            "text/plain": [
              "<matplotlib.axes._subplots.AxesSubplot at 0x7f9caa6aebe0>"
            ]
          },
          "metadata": {
            "tags": []
          }
        },
        {
          "output_type": "display_data",
          "data": {
            "text/plain": [
              "<matplotlib.axes._subplots.AxesSubplot at 0x7f9caa6aebe0>"
            ]
          },
          "metadata": {
            "tags": []
          }
        },
        {
          "output_type": "display_data",
          "data": {
            "text/plain": [
              "<matplotlib.axes._subplots.AxesSubplot at 0x7f9caa6aebe0>"
            ]
          },
          "metadata": {
            "tags": []
          }
        },
        {
          "output_type": "display_data",
          "data": {
            "text/plain": [
              "<matplotlib.axes._subplots.AxesSubplot at 0x7f9caa6aebe0>"
            ]
          },
          "metadata": {
            "tags": []
          }
        },
        {
          "output_type": "display_data",
          "data": {
            "text/plain": [
              "<matplotlib.axes._subplots.AxesSubplot at 0x7f9caa6aebe0>"
            ]
          },
          "metadata": {
            "tags": []
          }
        },
        {
          "output_type": "display_data",
          "data": {
            "text/plain": [
              "<matplotlib.axes._subplots.AxesSubplot at 0x7f9caa6aebe0>"
            ]
          },
          "metadata": {
            "tags": []
          }
        },
        {
          "output_type": "display_data",
          "data": {
            "text/plain": [
              "<matplotlib.axes._subplots.AxesSubplot at 0x7f9caa6aebe0>"
            ]
          },
          "metadata": {
            "tags": []
          }
        },
        {
          "output_type": "display_data",
          "data": {
            "text/plain": [
              "<matplotlib.axes._subplots.AxesSubplot at 0x7f9caa6aebe0>"
            ]
          },
          "metadata": {
            "tags": []
          }
        },
        {
          "output_type": "display_data",
          "data": {
            "text/plain": [
              "<matplotlib.axes._subplots.AxesSubplot at 0x7f9caa6aebe0>"
            ]
          },
          "metadata": {
            "tags": []
          }
        },
        {
          "output_type": "display_data",
          "data": {
            "text/plain": [
              "<matplotlib.axes._subplots.AxesSubplot at 0x7f9caa6aebe0>"
            ]
          },
          "metadata": {
            "tags": []
          }
        },
        {
          "output_type": "display_data",
          "data": {
            "text/plain": [
              "<matplotlib.axes._subplots.AxesSubplot at 0x7f9caa6aebe0>"
            ]
          },
          "metadata": {
            "tags": []
          }
        },
        {
          "output_type": "display_data",
          "data": {
            "text/plain": [
              "<matplotlib.axes._subplots.AxesSubplot at 0x7f9caa6aebe0>"
            ]
          },
          "metadata": {
            "tags": []
          }
        },
        {
          "output_type": "display_data",
          "data": {
            "text/plain": [
              "<matplotlib.axes._subplots.AxesSubplot at 0x7f9caa6aebe0>"
            ]
          },
          "metadata": {
            "tags": []
          }
        },
        {
          "output_type": "display_data",
          "data": {
            "text/plain": [
              "<matplotlib.axes._subplots.AxesSubplot at 0x7f9caa6aebe0>"
            ]
          },
          "metadata": {
            "tags": []
          }
        },
        {
          "output_type": "display_data",
          "data": {
            "text/plain": [
              "<matplotlib.axes._subplots.AxesSubplot at 0x7f9caa6aebe0>"
            ]
          },
          "metadata": {
            "tags": []
          }
        },
        {
          "output_type": "display_data",
          "data": {
            "text/plain": [
              "<matplotlib.axes._subplots.AxesSubplot at 0x7f9caa6aebe0>"
            ]
          },
          "metadata": {
            "tags": []
          }
        },
        {
          "output_type": "display_data",
          "data": {
            "text/plain": [
              "<matplotlib.axes._subplots.AxesSubplot at 0x7f9caa6aebe0>"
            ]
          },
          "metadata": {
            "tags": []
          }
        },
        {
          "output_type": "display_data",
          "data": {
            "text/plain": [
              "<matplotlib.axes._subplots.AxesSubplot at 0x7f9caa6aebe0>"
            ]
          },
          "metadata": {
            "tags": []
          }
        },
        {
          "output_type": "display_data",
          "data": {
            "text/plain": [
              "<matplotlib.axes._subplots.AxesSubplot at 0x7f9caa6aebe0>"
            ]
          },
          "metadata": {
            "tags": []
          }
        },
        {
          "output_type": "display_data",
          "data": {
            "text/plain": [
              "<matplotlib.axes._subplots.AxesSubplot at 0x7f9caa6aebe0>"
            ]
          },
          "metadata": {
            "tags": []
          }
        },
        {
          "output_type": "display_data",
          "data": {
            "text/plain": [
              "<matplotlib.axes._subplots.AxesSubplot at 0x7f9caa6aebe0>"
            ]
          },
          "metadata": {
            "tags": []
          }
        },
        {
          "output_type": "display_data",
          "data": {
            "text/plain": [
              "<matplotlib.axes._subplots.AxesSubplot at 0x7f9caa6aebe0>"
            ]
          },
          "metadata": {
            "tags": []
          }
        },
        {
          "output_type": "display_data",
          "data": {
            "text/plain": [
              "<matplotlib.axes._subplots.AxesSubplot at 0x7f9caa6aebe0>"
            ]
          },
          "metadata": {
            "tags": []
          }
        },
        {
          "output_type": "display_data",
          "data": {
            "text/plain": [
              "<matplotlib.axes._subplots.AxesSubplot at 0x7f9caa6aebe0>"
            ]
          },
          "metadata": {
            "tags": []
          }
        },
        {
          "output_type": "display_data",
          "data": {
            "text/plain": [
              "<matplotlib.axes._subplots.AxesSubplot at 0x7f9caa6aebe0>"
            ]
          },
          "metadata": {
            "tags": []
          }
        },
        {
          "output_type": "display_data",
          "data": {
            "text/plain": [
              "<matplotlib.axes._subplots.AxesSubplot at 0x7f9caa6aebe0>"
            ]
          },
          "metadata": {
            "tags": []
          }
        },
        {
          "output_type": "display_data",
          "data": {
            "image/png": "[encoded data removed]",
            "text/plain": [
              "<Figure size 720x360 with 1 Axes>"
            ]
          },
          "metadata": {
            "tags": []
          }
        }
      ]
    },
    {
      "cell_type": "code",
      "metadata": {
        "id": "0N_7k43iCDZv",
        "colab_type": "code",
        "colab": {}
      },
      "source": [
        "bottomPercentile = df.describe(percentiles=[0.05, 0.95]).iloc[4].means"
      ],
      "execution_count": 41,
      "outputs": []
    },
    {
      "cell_type": "code",
      "metadata": {
        "id": "8ig9P9d6ASXc",
        "colab_type": "code",
        "colab": {
          "base_uri": "https://localhost:8080/",
          "height": 1000
        },
        "outputId": "fb6c5950-88aa-42d5-834d-fec5a21ea67f"
      },
      "source": [
        "simp = df.loc[(df.means < bottomPercentile)]\n",
        "simp = simp.sort_values('means')\n",
        "for index, row in simp.iterrows():\n",
        "  plt.figure() #this creates a new figure on which your plot will appear\n",
        "  sns.distplot(row.r_values, axlabel=(\"strain: \" + row.strain + \" mean:\" + str('%.5f'%(row.means))))"
      ],
      "execution_count": 42,
      "outputs": [
        {
          "output_type": "display_data",
          "data": {
            "image/png": "[encoded data removed]",
            "text/plain": [
              "<Figure size 720x360 with 1 Axes>"
            ]
          },
          "metadata": {
            "tags": []
          }
        },
        {
          "output_type": "display_data",
          "data": {
            "image/png": "[encoded data removed]",
            "text/plain": [
              "<Figure size 720x360 with 1 Axes>"
            ]
          },
          "metadata": {
            "tags": []
          }
        },
        {
          "output_type": "display_data",
          "data": {
            "image/png": "[encoded data removed]",
            "text/plain": [
              "<Figure size 720x360 with 1 Axes>"
            ]
          },
          "metadata": {
            "tags": []
          }
        },
        {
          "output_type": "display_data",
          "data": {
            "image/png": "[encoded data removed]",
            "text/plain": [
              "<Figure size 720x360 with 1 Axes>"
            ]
          },
          "metadata": {
            "tags": []
          }
        },
        {
          "output_type": "display_data",
          "data": {
            "image/png": "[encoded data removed]",
            "text/plain": [
              "<Figure size 720x360 with 1 Axes>"
            ]
          },
          "metadata": {
            "tags": []
          }
        },
        {
          "output_type": "display_data",
          "data": {
            "image/png": "[encoded data removed]",
            "text/plain": [
              "<Figure size 720x360 with 1 Axes>"
            ]
          },
          "metadata": {
            "tags": []
          }
        }
      ]
    }
  ]
}