{
  "nbformat": 4,
  "nbformat_minor": 0,
  "metadata": {
    "colab": {
      "name": "relationships.ipynb",
      "provenance": [],
      "mount_file_id": "19nycDNbA0t3bDbDrwx0DQ_4SqQN9bzca",
      "authorship_tag": "ABX9TyNmeYGbYzLoPUkpKTEMyjzn",
      "include_colab_link": true
    },
    "kernelspec": {
      "name": "python3",
      "display_name": "Python 3"
    },
    "accelerator": "GPU"
  },
  "cells": [
    {
      "cell_type": "markdown",
      "metadata": {
        "id": "view-in-github",
        "colab_type": "text"
      },
      "source": [
        "<a href=\"https://colab.research.google.com/github/beangoben/TB_project/blob/ashton/relationships.ipynb\" target=\"_parent\"><img src=\"https://colab.research.google.com/assets/colab-badge.svg\" alt=\"Open In Colab\"/></a>"
      ]
    },
    {
      "cell_type": "code",
      "metadata": {
        "id": "ELCdooaFw0Gl",
        "colab_type": "code",
        "colab": {
          "base_uri": "https://localhost:8080/",
          "height": 238
        },
        "outputId": "9468ee3f-abe0-4567-99ef-a19d882cd134"
      },
      "source": [
        "!wget https://raw.githubusercontent.com/beangoben/rdkit_colab/master/colab_utils.py -O colab_utils.py\n",
        "!rm -rf sample_data\n",
        "import colab_utils"
      ],
      "execution_count": null,
      "outputs": [
        {
          "output_type": "stream",
          "text": [
            "--2020-07-13 01:41:29--  https://raw.githubusercontent.com/beangoben/rdkit_colab/master/colab_utils.py\n",
            "Resolving raw.githubusercontent.com (raw.githubusercontent.com)... 151.101.0.133, 151.101.64.133, 151.101.128.133, ...\n",
            "Connecting to raw.githubusercontent.com (raw.githubusercontent.com)|151.101.0.133|:443... connected.\n",
            "HTTP request sent, awaiting response... 200 OK\n",
            "Length: 7169 (7.0K) [text/plain]\n",
            "Saving to: ‘colab_utils.py’\n",
            "\n",
            "\rcolab_utils.py        0%[                    ]       0  --.-KB/s               \rcolab_utils.py      100%[===================>]   7.00K  --.-KB/s    in 0s      \n",
            "\n",
            "2020-07-13 01:41:29 (78.2 MB/s) - ‘colab_utils.py’ saved [7169/7169]\n",
            "\n"
          ],
          "name": "stdout"
        },
        {
          "output_type": "stream",
          "text": [
            "/usr/local/lib/python3.6/dist-packages/statsmodels/tools/_testing.py:19: FutureWarning: pandas.util.testing is deprecated. Use the functions in the public API at pandas.testing instead.\n",
            "  import pandas.util.testing as tm\n"
          ],
          "name": "stderr"
        }
      ]
    },
    {
      "cell_type": "code",
      "metadata": {
        "id": "1ZSnNzPQw3ha",
        "colab_type": "code",
        "colab": {
          "base_uri": "https://localhost:8080/",
          "height": 731
        },
        "outputId": "9a73c704-9d4d-44c2-f114-8714e6ec604e"
      },
      "source": [
        "github_repo = 'https://github.com/beangoben/rdkit_colab'\n",
        "# If working in a private colab repo, \n",
        "# save a id_rsa file in gdrive or dropbox, etc. and run copy_ssh_key\n",
        "colab_utils.copy_ssh_key('https://www.dropbox.com/s/h6aw94l7sz763sz/id_rsa_colab?dl=1')\n",
        "colab_utils.clone_repo(github_repo)\n",
        "colab_utils.conda_install_from_yaml()\n",
        "colab_utils.pip_install_from_yaml()"
      ],
      "execution_count": null,
      "outputs": [
        {
          "output_type": "stream",
          "text": [
            "CMD: git clone --recursive https://github.com/beangoben/rdkit_colab\n",
            "Ignoring: conda install already exists in {CONDA_DIR}!\n",
            "pip installing ['e3fp', 'selfies']\n",
            "CMD: pip install  e3fp\n",
            "Collecting e3fp\n",
            "Downloading e3fp-1.2.1.tar.gz (1.0 MB)\n",
            "Installing build dependencies: started\n",
            "Installing build dependencies: finished with status 'done'\n",
            "Getting requirements to build wheel: started\n",
            "Getting requirements to build wheel: finished with status 'done'\n",
            "Preparing wheel metadata: started\n",
            "Preparing wheel metadata: finished with status 'done'\n",
            "Collecting scipy>=0.18.0\n",
            "Downloading scipy-1.5.1-cp37-cp37m-manylinux1_x86_64.whl (25.9 MB)\n",
            "Collecting sdaxen-python-utilities>=0.1.4\n",
            "Downloading sdaxen_python_utilities-0.1.4.tar.gz (10 kB)\n",
            "Collecting cython>=0.25.2\n",
            "Using cached Cython-0.29.21-cp37-cp37m-manylinux1_x86_64.whl (2.0 MB)\n",
            "Requirement already satisfied: numpy>=1.11.3 in /usr/local/lib/python3.7/site-packages (from e3fp) (1.18.5)\n",
            "Collecting mmh3>=2.3.1\n",
            "Downloading mmh3-2.5.1.tar.gz (9.8 kB)\n",
            "Building wheels for collected packages: e3fp, sdaxen-python-utilities, mmh3\n",
            "Building wheel for e3fp (PEP 517): started\n",
            "Building wheel for e3fp (PEP 517): finished with status 'done'\n",
            "Created wheel for e3fp: filename=e3fp-1.2.1-cp37-cp37m-linux_x86_64.whl size=1317435 sha256=0899cca08e6fb961a92aefd05061682a0e90e0fcf209167b1d15aa806c9ef478\n",
            "Stored in directory: /root/.cache/pip/wheels/17/4b/6e/bcb2040f207a2f7647a74ef7d40ff8171d90a795c2149bb313\n",
            "Building wheel for sdaxen-python-utilities (setup.py): started\n",
            "Building wheel for sdaxen-python-utilities (setup.py): finished with status 'done'\n",
            "Created wheel for sdaxen-python-utilities: filename=sdaxen_python_utilities-0.1.4-py3-none-any.whl size=12372 sha256=ac574655a2d256c22434a1504be49d79391c3530976d7e23b0306f43f213b3ed\n",
            "Stored in directory: /root/.cache/pip/wheels/42/b0/83/6461720127d35bbe59639ae505b32cb6c0c5a08c0a3a30caef\n",
            "Building wheel for mmh3 (setup.py): started\n",
            "Building wheel for mmh3 (setup.py): finished with status 'done'\n",
            "Created wheel for mmh3: filename=mmh3-2.5.1-cp37-cp37m-linux_x86_64.whl size=39674 sha256=d0599a2c7ecf4ea81f5b8007c3f358023867e8d15f74d3586e4f2ad3346f8145\n",
            "Stored in directory: /root/.cache/pip/wheels/ae/45/25/90e097a519143b2dca74cd93a056894a965f27908103e01799\n",
            "Successfully built e3fp sdaxen-python-utilities mmh3\n",
            "Installing collected packages: scipy, sdaxen-python-utilities, cython, mmh3, e3fp\n",
            "Successfully installed cython-0.29.21 e3fp-1.2.1 mmh3-2.5.1 scipy-1.5.1 sdaxen-python-utilities-0.1.4\n",
            "CMD: pip install  selfies\n",
            "Collecting selfies\n",
            "Downloading selfies-0.2.4-py3-none-any.whl (15 kB)\n",
            "Installing collected packages: selfies\n",
            "Successfully installed selfies-0.2.4\n"
          ],
          "name": "stdout"
        }
      ]
    },
    {
      "cell_type": "code",
      "metadata": {
        "id": "-pQu7DgK6Qth",
        "colab_type": "code",
        "colab": {
          "base_uri": "https://localhost:8080/",
          "height": 54
        },
        "outputId": "be8740f0-4c48-4628-bb8f-dbb7dad6ac09"
      },
      "source": [
        "import sys\n",
        "import os\n",
        "sys.path.append('/usr/local/lib/python3.7/site-packages/')\n",
        "\n",
        "import matplotlib as mpl\n",
        "import matplotlib.pyplot as plt\n",
        "import seaborn as sns\n",
        "\n",
        "import scipy as sp\n",
        "import scipy.stats as stats\n",
        "import sklearn\n",
        "import sklearn.model_selection\n",
        "import sklearn.metrics\n",
        "import sklearn.cluster\n",
        "import pandas as pd\n",
        "import numpy as np\n",
        "from IPython.display import display, HTML \n",
        "np.set_printoptions(threshold=sys.maxsize)\n",
        "\n",
        "# utils\n",
        "from tqdm.autonotebook import tqdm\n",
        "from collections import OrderedDict\n",
        "import itertools\n",
        "\n",
        "# rdkit stuff\n",
        "from rdkit import Chem\n",
        "from rdkit.Chem import AllChem\n",
        "from rdkit.Chem.Draw import IPythonConsole\n",
        "from rdkit.Chem import Draw\n",
        "from rdkit import DataStructs\n",
        "from rdkit.SimDivFilters.rdSimDivPickers import MaxMinPicker\n",
        "\n",
        "tqdm.pandas()\n",
        "sns.set_context('talk', font_scale=1.5)\n",
        "sns.set_style(\"white\")\n",
        "plt.rc('lines', linewidth=2)\n",
        "plt.rc('figure', figsize=(10,5))\n",
        "import altair as alt\n",
        "\n",
        "#google drive stuff\n",
        "# from pydrive.auth import GoogleAuth\n",
        "# from pydrive.drive import GoogleDrive\n",
        "# from google.colab import auth\n",
        "# from oauth2client.client import GoogleCredentials\n",
        "# auth.authenticate_user()\n",
        "# gauth = GoogleAuth()\n",
        "# gauth.credentials = GoogleCredentials.get_application_default()\n",
        "# drive = GoogleDrive(gauth)"
      ],
      "execution_count": null,
      "outputs": [
        {
          "output_type": "stream",
          "text": [
            "/usr/local/lib/python3.6/dist-packages/ipykernel_launcher.py:21: TqdmExperimentalWarning: Using `tqdm.autonotebook.tqdm` in notebook mode. Use `tqdm.tqdm` instead to force console mode (e.g. in jupyter console)\n"
          ],
          "name": "stderr"
        }
      ]
    },
    {
      "cell_type": "code",
      "metadata": {
        "id": "7smNtGAt6Wer",
        "colab_type": "code",
        "colab": {}
      },
      "source": [
        "all = pd.read_csv('/content/drive/My Drive/Extracurricular/Internships/Research/TB Internship/FullMerged.csv')"
      ],
      "execution_count": null,
      "outputs": []
    },
    {
      "cell_type": "code",
      "metadata": {
        "id": "XWN3CbZm67Fd",
        "colab_type": "code",
        "colab": {}
      },
      "source": [
        "all = all.loc[all.concentration == 30]\n",
        "all['mol'] = all.SMILES.apply(Chem.MolFromSmiles)\n",
        "all['fingerprints'] = all.mol.apply(lambda x: AllChem.GetMorganFingerprint(x,2))\n",
        "display(all.head())\n",
        "display(all.info())\n",
        "display(all.strain.unique())"
      ],
      "execution_count": null,
      "outputs": []
    },
    {
      "cell_type": "code",
      "metadata": {
        "id": "o6xE5JAw8QXr",
        "colab_type": "code",
        "colab": {}
      },
      "source": [
        "def tani(f1, f2):\n",
        "  return DataStructs.TanimotoSimilarity(f1,f2)"
      ],
      "execution_count": null,
      "outputs": []
    },
    {
      "cell_type": "code",
      "metadata": {
        "id": "_aC7yCs0dh7B",
        "colab_type": "code",
        "colab": {}
      },
      "source": [
        "r_value_list = []\n",
        "x = 0\n",
        "\n",
        "\n",
        "for strain in all.strain.unique():\n",
        "  print(strain)\n",
        "  df = all.loc[all.strain == strain]\n",
        "  fps = np.array(df.fingerprints.values.tolist())\n",
        "  zscores = np.array(df.z_score.values.tolist())\n",
        "\n",
        "  sim_lists = []\n",
        "  for ref in fps:\n",
        "    sim = []\n",
        "    for fp in fps:\n",
        "      sim.append(tani(ref, fp))\n",
        "    sim_lists.append(sim)\n",
        "\n",
        "\n",
        "  diff_lists = []\n",
        "  for zref in zscores:\n",
        "    diff = []\n",
        "    for z in zscores:\n",
        "      diff.append(np.linalg.norm(zref - z))\n",
        "  diff_lists.append(diff)\n",
        "\n",
        "  sim_lists = np.array(sim_lists)\n",
        "  diff_lists = np.array(diff_lists)\n",
        "\n",
        "  # in the code below, i have created a list of r values\n",
        "  # that is calculated by running a linear regression\n",
        "  # on all of the different distributions for one strain\n",
        "  # where each compound is selected as a reference compound \n",
        "  # and the z_diff and tanimoto similarity is calculated in relation\n",
        "  # to all other compounds for that strain\n",
        "\n",
        "  # the problem that i am having is that it only calculates one r_value\n",
        "  # and then moves on. in other words, the for loop only seems to run\n",
        "  # once instead of each \"sim\" and \"dif\" in \"sim_lists\" and \"diff_lists\"\n",
        "  r_values = []\n",
        "  for sim,diff in zip(sim_lists, diff_lists):\n",
        "    slope, intercept, r_value, p_value, std_err = stats.linregress(sim,diff)\n",
        "    r_values.append(r_value)\n",
        "\n",
        "  r_value_list.append(np.array(r_values))\n",
        "  \n"
      ],
      "execution_count": null,
      "outputs": []
    }
  ]
}