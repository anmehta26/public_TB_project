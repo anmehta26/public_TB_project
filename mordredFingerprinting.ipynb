{
  "nbformat": 4,
  "nbformat_minor": 0,
  "metadata": {
    "colab": {
      "name": "mordredFingerprinting.ipynb",
      "provenance": [],
      "toc_visible": true,
      "mount_file_id": "1tXNZOtu7SGIl6kk9e3FtquSWH31je4Ta",
      "authorship_tag": "ABX9TyPcG4CEl7x1tChqhKRTgeDG",
      "include_colab_link": true
    },
    "kernelspec": {
      "name": "python3",
      "display_name": "Python 3"
    },
    "widgets": {
      "application/vnd.jupyter.widget-state+json": {
        "3e70924784e54da0a2ea018e536961a1": {
          "model_module": "@jupyter-widgets/controls",
          "model_name": "HBoxModel",
          "state": {
            "_view_name": "HBoxView",
            "_dom_classes": [],
            "_model_name": "HBoxModel",
            "_view_module": "@jupyter-widgets/controls",
            "_model_module_version": "1.5.0",
            "_view_count": null,
            "_view_module_version": "1.5.0",
            "box_style": "",
            "layout": "IPY_MODEL_23b08bfd316749749f5a7c59239065a5",
            "_model_module": "@jupyter-widgets/controls",
            "children": [
              "IPY_MODEL_fa322209a62b44d2ab58868257f88a30",
              "IPY_MODEL_d944be1fbbd54357a52472b153f85289"
            ]
          }
        },
        "23b08bfd316749749f5a7c59239065a5": {
          "model_module": "@jupyter-widgets/base",
          "model_name": "LayoutModel",
          "state": {
            "_view_name": "LayoutView",
            "grid_template_rows": null,
            "right": null,
            "justify_content": null,
            "_view_module": "@jupyter-widgets/base",
            "overflow": null,
            "_model_module_version": "1.2.0",
            "_view_count": null,
            "flex_flow": null,
            "width": null,
            "min_width": null,
            "border": null,
            "align_items": null,
            "bottom": null,
            "_model_module": "@jupyter-widgets/base",
            "top": null,
            "grid_column": null,
            "overflow_y": null,
            "overflow_x": null,
            "grid_auto_flow": null,
            "grid_area": null,
            "grid_template_columns": null,
            "flex": null,
            "_model_name": "LayoutModel",
            "justify_items": null,
            "grid_row": null,
            "max_height": null,
            "align_content": null,
            "visibility": null,
            "align_self": null,
            "height": null,
            "min_height": null,
            "padding": null,
            "grid_auto_rows": null,
            "grid_gap": null,
            "max_width": null,
            "order": null,
            "_view_module_version": "1.2.0",
            "grid_template_areas": null,
            "object_position": null,
            "object_fit": null,
            "grid_auto_columns": null,
            "margin": null,
            "display": null,
            "left": null
          }
        },
        "fa322209a62b44d2ab58868257f88a30": {
          "model_module": "@jupyter-widgets/controls",
          "model_name": "FloatProgressModel",
          "state": {
            "_view_name": "ProgressView",
            "style": "IPY_MODEL_1650de1984e44c7cbd28f37c29b800b6",
            "_dom_classes": [],
            "description": "100%",
            "_model_name": "FloatProgressModel",
            "bar_style": "success",
            "max": 1045,
            "_view_module": "@jupyter-widgets/controls",
            "_model_module_version": "1.5.0",
            "value": 1045,
            "_view_count": null,
            "_view_module_version": "1.5.0",
            "orientation": "horizontal",
            "min": 0,
            "description_tooltip": null,
            "_model_module": "@jupyter-widgets/controls",
            "layout": "IPY_MODEL_20d0906bb4f94bb99a181c1b7f2faaab"
          }
        },
        "d944be1fbbd54357a52472b153f85289": {
          "model_module": "@jupyter-widgets/controls",
          "model_name": "HTMLModel",
          "state": {
            "_view_name": "HTMLView",
            "style": "IPY_MODEL_edb8bc8bbd014e0d93a456b0e58e763a",
            "_dom_classes": [],
            "description": "",
            "_model_name": "HTMLModel",
            "placeholder": "​",
            "_view_module": "@jupyter-widgets/controls",
            "_model_module_version": "1.5.0",
            "value": " 1045/1045 [21:46&lt;00:00,  1.25s/it]",
            "_view_count": null,
            "_view_module_version": "1.5.0",
            "description_tooltip": null,
            "_model_module": "@jupyter-widgets/controls",
            "layout": "IPY_MODEL_55849eb4d4934b01a21bd89837a0d1cd"
          }
        },
        "1650de1984e44c7cbd28f37c29b800b6": {
          "model_module": "@jupyter-widgets/controls",
          "model_name": "ProgressStyleModel",
          "state": {
            "_view_name": "StyleView",
            "_model_name": "ProgressStyleModel",
            "description_width": "initial",
            "_view_module": "@jupyter-widgets/base",
            "_model_module_version": "1.5.0",
            "_view_count": null,
            "_view_module_version": "1.2.0",
            "bar_color": null,
            "_model_module": "@jupyter-widgets/controls"
          }
        },
        "20d0906bb4f94bb99a181c1b7f2faaab": {
          "model_module": "@jupyter-widgets/base",
          "model_name": "LayoutModel",
          "state": {
            "_view_name": "LayoutView",
            "grid_template_rows": null,
            "right": null,
            "justify_content": null,
            "_view_module": "@jupyter-widgets/base",
            "overflow": null,
            "_model_module_version": "1.2.0",
            "_view_count": null,
            "flex_flow": null,
            "width": null,
            "min_width": null,
            "border": null,
            "align_items": null,
            "bottom": null,
            "_model_module": "@jupyter-widgets/base",
            "top": null,
            "grid_column": null,
            "overflow_y": null,
            "overflow_x": null,
            "grid_auto_flow": null,
            "grid_area": null,
            "grid_template_columns": null,
            "flex": null,
            "_model_name": "LayoutModel",
            "justify_items": null,
            "grid_row": null,
            "max_height": null,
            "align_content": null,
            "visibility": null,
            "align_self": null,
            "height": null,
            "min_height": null,
            "padding": null,
            "grid_auto_rows": null,
            "grid_gap": null,
            "max_width": null,
            "order": null,
            "_view_module_version": "1.2.0",
            "grid_template_areas": null,
            "object_position": null,
            "object_fit": null,
            "grid_auto_columns": null,
            "margin": null,
            "display": null,
            "left": null
          }
        },
        "edb8bc8bbd014e0d93a456b0e58e763a": {
          "model_module": "@jupyter-widgets/controls",
          "model_name": "DescriptionStyleModel",
          "state": {
            "_view_name": "StyleView",
            "_model_name": "DescriptionStyleModel",
            "description_width": "",
            "_view_module": "@jupyter-widgets/base",
            "_model_module_version": "1.5.0",
            "_view_count": null,
            "_view_module_version": "1.2.0",
            "_model_module": "@jupyter-widgets/controls"
          }
        },
        "55849eb4d4934b01a21bd89837a0d1cd": {
          "model_module": "@jupyter-widgets/base",
          "model_name": "LayoutModel",
          "state": {
            "_view_name": "LayoutView",
            "grid_template_rows": null,
            "right": null,
            "justify_content": null,
            "_view_module": "@jupyter-widgets/base",
            "overflow": null,
            "_model_module_version": "1.2.0",
            "_view_count": null,
            "flex_flow": null,
            "width": null,
            "min_width": null,
            "border": null,
            "align_items": null,
            "bottom": null,
            "_model_module": "@jupyter-widgets/base",
            "top": null,
            "grid_column": null,
            "overflow_y": null,
            "overflow_x": null,
            "grid_auto_flow": null,
            "grid_area": null,
            "grid_template_columns": null,
            "flex": null,
            "_model_name": "LayoutModel",
            "justify_items": null,
            "grid_row": null,
            "max_height": null,
            "align_content": null,
            "visibility": null,
            "align_self": null,
            "height": null,
            "min_height": null,
            "padding": null,
            "grid_auto_rows": null,
            "grid_gap": null,
            "max_width": null,
            "order": null,
            "_view_module_version": "1.2.0",
            "grid_template_areas": null,
            "object_position": null,
            "object_fit": null,
            "grid_auto_columns": null,
            "margin": null,
            "display": null,
            "left": null
          }
        }
      }
    }
  },
  "cells": [
    {
      "cell_type": "markdown",
      "metadata": {
        "id": "view-in-github",
        "colab_type": "text"
      },
      "source": [
        "<a href=\"https://colab.research.google.com/github/beangoben/TB_project/blob/master/mordredFingerprinting.ipynb\" target=\"_parent\"><img src=\"https://colab.research.google.com/assets/colab-badge.svg\" alt=\"Open In Colab\"/></a>"
      ]
    },
    {
      "cell_type": "markdown",
      "metadata": {
        "id": "OPU6M7T86MHT",
        "colab_type": "text"
      },
      "source": [
        "### Setup"
      ]
    },
    {
      "cell_type": "code",
      "metadata": {
        "id": "lfk0E0KukZrl",
        "colab_type": "code",
        "colab": {
          "base_uri": "https://localhost:8080/",
          "height": 204
        },
        "outputId": "68c785c6-e926-4385-8a6f-08f3d8479c08"
      },
      "source": [
        "!wget https://raw.githubusercontent.com/beangoben/rdkit_colab/master/colab_utils.py -O colab_utils.py\n",
        "!rm -rf sample_data\n",
        "import colab_utils"
      ],
      "execution_count": 13,
      "outputs": [
        {
          "output_type": "stream",
          "text": [
            "--2020-08-06 19:37:36--  https://raw.githubusercontent.com/beangoben/rdkit_colab/master/colab_utils.py\n",
            "Resolving raw.githubusercontent.com (raw.githubusercontent.com)... 151.101.0.133, 151.101.64.133, 151.101.128.133, ...\n",
            "Connecting to raw.githubusercontent.com (raw.githubusercontent.com)|151.101.0.133|:443... connected.\n",
            "HTTP request sent, awaiting response... 200 OK\n",
            "Length: 7173 (7.0K) [text/plain]\n",
            "Saving to: ‘colab_utils.py’\n",
            "\n",
            "\rcolab_utils.py        0%[                    ]       0  --.-KB/s               \rcolab_utils.py      100%[===================>]   7.00K  --.-KB/s    in 0s      \n",
            "\n",
            "2020-08-06 19:37:36 (43.7 MB/s) - ‘colab_utils.py’ saved [7173/7173]\n",
            "\n"
          ],
          "name": "stdout"
        }
      ]
    },
    {
      "cell_type": "code",
      "metadata": {
        "id": "jyWrv4hskmnS",
        "colab_type": "code",
        "colab": {
          "base_uri": "https://localhost:8080/",
          "height": 68
        },
        "outputId": "6a1bad93-6b7e-41e6-a010-362c5e7cf663"
      },
      "source": [
        "github_repo = 'git@github.com:beangoben/TB_project.git'\n",
        "# If working in a private colab repo, \n",
        "# save a id_rsa file in gdrive or dropbox, etc. and run copy_ssh_key\n",
        "colab_utils.copy_ssh_key('https://www.dropbox.com/s/h6aw94l7sz763sz/id_rsa_colab?dl=1')\n",
        "colab_utils.clone_repo(github_repo)\n",
        "colab_utils.conda_install_from_yaml()\n",
        "colab_utils.pip_install_from_yaml()"
      ],
      "execution_count": 14,
      "outputs": [
        {
          "output_type": "stream",
          "text": [
            "CMD: git clone --recursive git@github.com:beangoben/TB_project.git\n",
            "Ignoring: conda install already exists in {CONDA_DIR}!\n",
            "pip installing []\n"
          ],
          "name": "stdout"
        }
      ]
    },
    {
      "cell_type": "code",
      "metadata": {
        "id": "vFkntuvqlYmd",
        "colab_type": "code",
        "colab": {}
      },
      "source": [
        "colab_utils.add_conda_dir_to_python_path()\n",
        "import sys\n",
        "REPO_DIR = '.' if 'google.colab' in sys.modules else '..'"
      ],
      "execution_count": 15,
      "outputs": []
    },
    {
      "cell_type": "code",
      "metadata": {
        "id": "2aRtYvRj6Q1O",
        "colab_type": "code",
        "colab": {}
      },
      "source": [
        "import sys\n",
        "import os\n",
        "sys.path.append('/usr/local/lib/python3.7/site-packages/')\n",
        "\n",
        "import matplotlib as mpl\n",
        "import matplotlib.pyplot as plt\n",
        "import seaborn as sns\n",
        "\n",
        "import scipy as sp\n",
        "import scipy.stats as stats\n",
        "import sklearn\n",
        "import sklearn.model_selection\n",
        "import sklearn.metrics\n",
        "import sklearn.cluster\n",
        "import pandas as pd\n",
        "import numpy as np\n",
        "from IPython.display import display, HTML \n",
        "np.set_printoptions(threshold=sys.maxsize)\n",
        "import umap\n",
        "from mordred import Calculator, descriptors\n",
        "\n",
        "# utils\n",
        "from tqdm.autonotebook import tqdm\n",
        "from collections import OrderedDict\n",
        "import itertools\n",
        "\n",
        "# rdkit stuff\n",
        "from rdkit import Chem\n",
        "from rdkit.Chem import AllChem\n",
        "from rdkit.Chem.Draw import IPythonConsole\n",
        "from rdkit.Chem import Draw\n",
        "from rdkit import DataStructs\n",
        "from rdkit.SimDivFilters.rdSimDivPickers import MaxMinPicker\n",
        "\n",
        "tqdm.pandas()\n",
        "sns.set_context('talk', font_scale=1.5)\n",
        "sns.set_style(\"white\")\n",
        "plt.rc('lines', linewidth=2)\n",
        "plt.rc('figure', figsize=(10,5))"
      ],
      "execution_count": 16,
      "outputs": []
    },
    {
      "cell_type": "markdown",
      "metadata": {
        "id": "GqVR1mIsT_qG",
        "colab_type": "text"
      },
      "source": [
        "Forming Dataset with Mordred Smiles"
      ]
    },
    {
      "cell_type": "code",
      "metadata": {
        "id": "Z6IGehK8R43u",
        "colab_type": "code",
        "colab": {
          "base_uri": "https://localhost:8080/",
          "height": 71
        },
        "outputId": "65414c35-deea-4358-8f6b-81a0e9dcefaa"
      },
      "source": [
        "mordred = pd.read_csv('/content/drive/My Drive/Extracurricular/Internships/Research/TB Internship/Datasets/mordred(1).csv')"
      ],
      "execution_count": 17,
      "outputs": [
        {
          "output_type": "stream",
          "text": [
            "/usr/local/lib/python3.6/dist-packages/IPython/core/interactiveshell.py:2718: DtypeWarning: Columns (5,157,158,159,166,167,168,175,176,177,184,185,186,193,194,195,202,203,204,211,212,213,220,221,222,229,230,231,238,239,240,247,248,249,364,365,366,373,374,375,382,383,384,391,392,393,400,401,402,409,410,411,418,419,420,427,428,429,436,437,438,445,446,447,454,455,456,463,464,465,471,472,473,479,480,481,487,488,489,495,496,497,503,504,505,511,512,513,519,520,521,527,528,529,535,536,537,543,544,545,551,552,553,559,560,561,567,568,569,575,576,577,583,584,585,591,592,593,599,600,601,607,608,609,615,616,617,623,624,625,631,632,633,639,640,641,647,648,649,655,656,657,849,865,1072,1074,1076,1077,1078,1080,1081,1082,1083,1084,1086,1089,1090,1094,1095,1097,1099,1100,1101,1102,1103,1111,1115,1116,1118,1119,1151,1153,1155,1156,1157,1159,1160,1161,1162,1163,1165,1168,1169,1173,1174,1176,1178,1179,1180,1181,1182,1190,1194,1195,1197,1198,1376,1377,1378,1379,1380,1381,1382,1383,1384,1385,1386,1387,1388,1390,1391,1392,1393,1394,1599) have mixed types.Specify dtype option on import or set low_memory=False.\n",
            "  interactivity=interactivity, compiler=compiler, result=result)\n"
          ],
          "name": "stderr"
        }
      ]
    },
    {
      "cell_type": "code",
      "metadata": {
        "id": "9oPSPzWfWQxB",
        "colab_type": "code",
        "colab": {}
      },
      "source": [
        "FullMerged = pd.read_csv('/content/drive/My Drive/Extracurricular/Internships/Research/TB Internship/FullMerged.csv')"
      ],
      "execution_count": null,
      "outputs": []
    },
    {
      "cell_type": "code",
      "metadata": {
        "id": "NkIWd_1WbMgK",
        "colab_type": "code",
        "colab": {}
      },
      "source": [
        "partial = FullMerged"
      ],
      "execution_count": null,
      "outputs": []
    },
    {
      "cell_type": "code",
      "metadata": {
        "id": "qBA1HR6qPyp1",
        "colab_type": "code",
        "colab": {
          "base_uri": "https://localhost:8080/",
          "height": 100,
          "referenced_widgets": [
            "3e70924784e54da0a2ea018e536961a1",
            "23b08bfd316749749f5a7c59239065a5",
            "fa322209a62b44d2ab58868257f88a30",
            "d944be1fbbd54357a52472b153f85289",
            "1650de1984e44c7cbd28f37c29b800b6",
            "20d0906bb4f94bb99a181c1b7f2faaab",
            "edb8bc8bbd014e0d93a456b0e58e763a",
            "55849eb4d4934b01a21bd89837a0d1cd"
          ]
        },
        "outputId": "106b65ac-ea5d-40b4-e399-27ef284e59b4"
      },
      "source": [
        "fplist = []\n",
        "smileslist = []\n",
        "calc = Calculator(descriptors, ignore_3D=True)\n",
        "for smile in tqdm(partial.SMILES.unique()):\n",
        "  mol = Chem.MolFromSmiles(smile)\n",
        "  fp = calculation = calc(mol)[:]\n",
        "  fplist.append(fp)\n",
        "  smileslist.append(smile)"
      ],
      "execution_count": null,
      "outputs": [
        {
          "output_type": "display_data",
          "data": {
            "application/vnd.jupyter.widget-view+json": {
              "model_id": "3e70924784e54da0a2ea018e536961a1",
              "version_minor": 0,
              "version_major": 2
            },
            "text/plain": [
              "HBox(children=(FloatProgress(value=0.0, max=1045.0), HTML(value='')))"
            ]
          },
          "metadata": {
            "tags": []
          }
        },
        {
          "output_type": "stream",
          "text": [
            "/usr/local/lib/python3.6/dist-packages/numpy/core/fromnumeric.py:90: RuntimeWarning: overflow encountered in reduce\n",
            "  return ufunc.reduce(obj, axis, dtype, out, **passkwargs)\n"
          ],
          "name": "stderr"
        },
        {
          "output_type": "stream",
          "text": [
            "\n"
          ],
          "name": "stdout"
        }
      ]
    },
    {
      "cell_type": "code",
      "metadata": {
        "id": "sQr3EnM9TM9n",
        "colab_type": "code",
        "colab": {}
      },
      "source": [
        "result = zip(smileslist, fplist)\n",
        "resultdf = pd.DataFrame(result)\n",
        "resultdf.rename(columns={0:'SMILES',\n",
        "                          1:'fingerprint'}, \n",
        "                 inplace=True)"
      ],
      "execution_count": null,
      "outputs": []
    },
    {
      "cell_type": "code",
      "metadata": {
        "id": "7FdnO6xc5hnD",
        "colab_type": "code",
        "colab": {}
      },
      "source": [
        "fpdf = pd.DataFrame(resultdf.fingerprint.to_list())\n",
        "fpdf['SMILES'] = smileslist\n",
        "resultdf = resultdf.merge(fpdf)\n",
        "resultdf = resultdf.drop(['fingerprint'], axis=1)"
      ],
      "execution_count": null,
      "outputs": []
    },
    {
      "cell_type": "code",
      "metadata": {
        "id": "HzCl5qUvU-xP",
        "colab_type": "code",
        "colab": {}
      },
      "source": [
        "FullMerged = FullMerged.merge(resultdf)"
      ],
      "execution_count": null,
      "outputs": []
    }
  ]
}